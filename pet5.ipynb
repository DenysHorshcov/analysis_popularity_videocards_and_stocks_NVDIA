{
 "cells": [
  {
   "cell_type": "markdown",
   "id": "adaedbaf",
   "metadata": {},
   "source": [
    "# Stoks Pet project"
   ]
  },
  {
   "cell_type": "markdown",
   "id": "bcff5b38",
   "metadata": {},
   "source": [
    "## Init"
   ]
  },
  {
   "cell_type": "markdown",
   "id": "1fc56326",
   "metadata": {},
   "source": [
    "### імпортую бібліотеки"
   ]
  },
  {
   "cell_type": "code",
   "execution_count": 1,
   "id": "d7bda984",
   "metadata": {},
   "outputs": [],
   "source": [
    "import pandas as pd\n",
    "import numpy as np\n",
    "import matplotlib.pyplot as plt\n",
    "import seaborn as sns"
   ]
  },
  {
   "cell_type": "markdown",
   "id": "98443112",
   "metadata": {},
   "source": [
    "### завантажую наявні таблиці"
   ]
  },
  {
   "cell_type": "code",
   "execution_count": 2,
   "id": "f2318d6a",
   "metadata": {},
   "outputs": [],
   "source": [
    "df_rtx4070 = pd.read_csv(\"tables/rtx4070.csv\", parse_dates=['week']).rename(columns={'rtx_4070':\"rtx_4070_popularity\"})\n",
    "df_rtx4080 = pd.read_csv(\"tables/rtx4080.csv\", parse_dates=['week']).rename(columns={'rtx_4080':\"rtx_4080_popularity\"})\n",
    "df_rtx4090 = pd.read_csv(\"tables/rtx4090.csv\", parse_dates=['week']).rename(columns={'rtx_4090':\"rtx_4090_popularity\"})\n",
    "df_stocks = pd.read_csv(\"tables/stock_prices.csv\", parse_dates=['date'])"
   ]
  },
  {
   "cell_type": "code",
   "execution_count": 3,
   "id": "51331cba",
   "metadata": {},
   "outputs": [
    {
     "data": {
      "text/html": [
       "<div>\n",
       "<style scoped>\n",
       "    .dataframe tbody tr th:only-of-type {\n",
       "        vertical-align: middle;\n",
       "    }\n",
       "\n",
       "    .dataframe tbody tr th {\n",
       "        vertical-align: top;\n",
       "    }\n",
       "\n",
       "    .dataframe thead th {\n",
       "        text-align: right;\n",
       "    }\n",
       "</style>\n",
       "<table border=\"1\" class=\"dataframe\">\n",
       "  <thead>\n",
       "    <tr style=\"text-align: right;\">\n",
       "      <th></th>\n",
       "      <th>week</th>\n",
       "      <th>rtx_4070_popularity</th>\n",
       "    </tr>\n",
       "  </thead>\n",
       "  <tbody>\n",
       "    <tr>\n",
       "      <th>0</th>\n",
       "      <td>2021-12-26</td>\n",
       "      <td>&lt;1</td>\n",
       "    </tr>\n",
       "    <tr>\n",
       "      <th>1</th>\n",
       "      <td>2022-01-02</td>\n",
       "      <td>&lt;1</td>\n",
       "    </tr>\n",
       "    <tr>\n",
       "      <th>2</th>\n",
       "      <td>2022-01-09</td>\n",
       "      <td>&lt;1</td>\n",
       "    </tr>\n",
       "    <tr>\n",
       "      <th>3</th>\n",
       "      <td>2022-01-16</td>\n",
       "      <td>&lt;1</td>\n",
       "    </tr>\n",
       "    <tr>\n",
       "      <th>4</th>\n",
       "      <td>2022-01-23</td>\n",
       "      <td>&lt;1</td>\n",
       "    </tr>\n",
       "  </tbody>\n",
       "</table>\n",
       "</div>"
      ],
      "text/plain": [
       "        week rtx_4070_popularity\n",
       "0 2021-12-26                  <1\n",
       "1 2022-01-02                  <1\n",
       "2 2022-01-09                  <1\n",
       "3 2022-01-16                  <1\n",
       "4 2022-01-23                  <1"
      ]
     },
     "execution_count": 3,
     "metadata": {},
     "output_type": "execute_result"
    }
   ],
   "source": [
    "df_rtx4070.head(5)"
   ]
  },
  {
   "cell_type": "code",
   "execution_count": 4,
   "id": "a4bdd566",
   "metadata": {},
   "outputs": [
    {
     "data": {
      "text/html": [
       "<div>\n",
       "<style scoped>\n",
       "    .dataframe tbody tr th:only-of-type {\n",
       "        vertical-align: middle;\n",
       "    }\n",
       "\n",
       "    .dataframe tbody tr th {\n",
       "        vertical-align: top;\n",
       "    }\n",
       "\n",
       "    .dataframe thead th {\n",
       "        text-align: right;\n",
       "    }\n",
       "</style>\n",
       "<table border=\"1\" class=\"dataframe\">\n",
       "  <thead>\n",
       "    <tr style=\"text-align: right;\">\n",
       "      <th></th>\n",
       "      <th>week</th>\n",
       "      <th>rtx_4080_popularity</th>\n",
       "    </tr>\n",
       "  </thead>\n",
       "  <tbody>\n",
       "    <tr>\n",
       "      <th>0</th>\n",
       "      <td>2021-12-26</td>\n",
       "      <td>1</td>\n",
       "    </tr>\n",
       "    <tr>\n",
       "      <th>1</th>\n",
       "      <td>2022-01-02</td>\n",
       "      <td>2</td>\n",
       "    </tr>\n",
       "    <tr>\n",
       "      <th>2</th>\n",
       "      <td>2022-01-09</td>\n",
       "      <td>2</td>\n",
       "    </tr>\n",
       "    <tr>\n",
       "      <th>3</th>\n",
       "      <td>2022-01-16</td>\n",
       "      <td>2</td>\n",
       "    </tr>\n",
       "    <tr>\n",
       "      <th>4</th>\n",
       "      <td>2022-01-23</td>\n",
       "      <td>2</td>\n",
       "    </tr>\n",
       "  </tbody>\n",
       "</table>\n",
       "</div>"
      ],
      "text/plain": [
       "        week  rtx_4080_popularity\n",
       "0 2021-12-26                    1\n",
       "1 2022-01-02                    2\n",
       "2 2022-01-09                    2\n",
       "3 2022-01-16                    2\n",
       "4 2022-01-23                    2"
      ]
     },
     "execution_count": 4,
     "metadata": {},
     "output_type": "execute_result"
    }
   ],
   "source": [
    "df_rtx4080.head(5)"
   ]
  },
  {
   "cell_type": "code",
   "execution_count": 5,
   "id": "05fbe892",
   "metadata": {},
   "outputs": [
    {
     "data": {
      "text/html": [
       "<div>\n",
       "<style scoped>\n",
       "    .dataframe tbody tr th:only-of-type {\n",
       "        vertical-align: middle;\n",
       "    }\n",
       "\n",
       "    .dataframe tbody tr th {\n",
       "        vertical-align: top;\n",
       "    }\n",
       "\n",
       "    .dataframe thead th {\n",
       "        text-align: right;\n",
       "    }\n",
       "</style>\n",
       "<table border=\"1\" class=\"dataframe\">\n",
       "  <thead>\n",
       "    <tr style=\"text-align: right;\">\n",
       "      <th></th>\n",
       "      <th>week</th>\n",
       "      <th>rtx_4090_popularity</th>\n",
       "    </tr>\n",
       "  </thead>\n",
       "  <tbody>\n",
       "    <tr>\n",
       "      <th>0</th>\n",
       "      <td>2021-12-26</td>\n",
       "      <td>1</td>\n",
       "    </tr>\n",
       "    <tr>\n",
       "      <th>1</th>\n",
       "      <td>2022-01-02</td>\n",
       "      <td>1</td>\n",
       "    </tr>\n",
       "    <tr>\n",
       "      <th>2</th>\n",
       "      <td>2022-01-09</td>\n",
       "      <td>1</td>\n",
       "    </tr>\n",
       "    <tr>\n",
       "      <th>3</th>\n",
       "      <td>2022-01-16</td>\n",
       "      <td>1</td>\n",
       "    </tr>\n",
       "    <tr>\n",
       "      <th>4</th>\n",
       "      <td>2022-01-23</td>\n",
       "      <td>1</td>\n",
       "    </tr>\n",
       "  </tbody>\n",
       "</table>\n",
       "</div>"
      ],
      "text/plain": [
       "        week  rtx_4090_popularity\n",
       "0 2021-12-26                    1\n",
       "1 2022-01-02                    1\n",
       "2 2022-01-09                    1\n",
       "3 2022-01-16                    1\n",
       "4 2022-01-23                    1"
      ]
     },
     "execution_count": 5,
     "metadata": {},
     "output_type": "execute_result"
    }
   ],
   "source": [
    "df_rtx4090.head(5)"
   ]
  },
  {
   "cell_type": "code",
   "execution_count": 6,
   "id": "722014bb",
   "metadata": {},
   "outputs": [
    {
     "data": {
      "text/html": [
       "<div>\n",
       "<style scoped>\n",
       "    .dataframe tbody tr th:only-of-type {\n",
       "        vertical-align: middle;\n",
       "    }\n",
       "\n",
       "    .dataframe tbody tr th {\n",
       "        vertical-align: top;\n",
       "    }\n",
       "\n",
       "    .dataframe thead th {\n",
       "        text-align: right;\n",
       "    }\n",
       "</style>\n",
       "<table border=\"1\" class=\"dataframe\">\n",
       "  <thead>\n",
       "    <tr style=\"text-align: right;\">\n",
       "      <th></th>\n",
       "      <th>ticker</th>\n",
       "      <th>date</th>\n",
       "      <th>open</th>\n",
       "      <th>high</th>\n",
       "      <th>low</th>\n",
       "      <th>close</th>\n",
       "      <th>adj_close</th>\n",
       "      <th>volume</th>\n",
       "    </tr>\n",
       "  </thead>\n",
       "  <tbody>\n",
       "    <tr>\n",
       "      <th>0</th>\n",
       "      <td>NVDA</td>\n",
       "      <td>2022-01-03</td>\n",
       "      <td>29.815001</td>\n",
       "      <td>30.711000</td>\n",
       "      <td>29.785000</td>\n",
       "      <td>30.121000</td>\n",
       "      <td>30.066133</td>\n",
       "      <td>391547000</td>\n",
       "    </tr>\n",
       "    <tr>\n",
       "      <th>1</th>\n",
       "      <td>NVDA</td>\n",
       "      <td>2022-01-04</td>\n",
       "      <td>30.277000</td>\n",
       "      <td>30.468000</td>\n",
       "      <td>28.349001</td>\n",
       "      <td>29.290001</td>\n",
       "      <td>29.236649</td>\n",
       "      <td>527154000</td>\n",
       "    </tr>\n",
       "    <tr>\n",
       "      <th>2</th>\n",
       "      <td>NVDA</td>\n",
       "      <td>2022-01-05</td>\n",
       "      <td>28.948999</td>\n",
       "      <td>29.416000</td>\n",
       "      <td>27.533001</td>\n",
       "      <td>27.604000</td>\n",
       "      <td>27.553719</td>\n",
       "      <td>498064000</td>\n",
       "    </tr>\n",
       "    <tr>\n",
       "      <th>3</th>\n",
       "      <td>NVDA</td>\n",
       "      <td>2022-01-06</td>\n",
       "      <td>27.639999</td>\n",
       "      <td>28.438000</td>\n",
       "      <td>27.065001</td>\n",
       "      <td>28.177999</td>\n",
       "      <td>28.126673</td>\n",
       "      <td>454186000</td>\n",
       "    </tr>\n",
       "    <tr>\n",
       "      <th>4</th>\n",
       "      <td>NVDA</td>\n",
       "      <td>2022-01-07</td>\n",
       "      <td>28.141001</td>\n",
       "      <td>28.422001</td>\n",
       "      <td>27.056999</td>\n",
       "      <td>27.247000</td>\n",
       "      <td>27.197369</td>\n",
       "      <td>409939000</td>\n",
       "    </tr>\n",
       "  </tbody>\n",
       "</table>\n",
       "</div>"
      ],
      "text/plain": [
       "  ticker       date       open       high        low      close  adj_close  \\\n",
       "0   NVDA 2022-01-03  29.815001  30.711000  29.785000  30.121000  30.066133   \n",
       "1   NVDA 2022-01-04  30.277000  30.468000  28.349001  29.290001  29.236649   \n",
       "2   NVDA 2022-01-05  28.948999  29.416000  27.533001  27.604000  27.553719   \n",
       "3   NVDA 2022-01-06  27.639999  28.438000  27.065001  28.177999  28.126673   \n",
       "4   NVDA 2022-01-07  28.141001  28.422001  27.056999  27.247000  27.197369   \n",
       "\n",
       "      volume  \n",
       "0  391547000  \n",
       "1  527154000  \n",
       "2  498064000  \n",
       "3  454186000  \n",
       "4  409939000  "
      ]
     },
     "execution_count": 6,
     "metadata": {},
     "output_type": "execute_result"
    }
   ],
   "source": [
    "df_stocks.head(5)"
   ]
  },
  {
   "cell_type": "markdown",
   "id": "350211d0",
   "metadata": {},
   "source": [
    "### об'єдную таблиці в одну"
   ]
  },
  {
   "cell_type": "code",
   "execution_count": 7,
   "id": "e5c770b1",
   "metadata": {},
   "outputs": [
    {
     "data": {
      "text/html": [
       "<div>\n",
       "<style scoped>\n",
       "    .dataframe tbody tr th:only-of-type {\n",
       "        vertical-align: middle;\n",
       "    }\n",
       "\n",
       "    .dataframe tbody tr th {\n",
       "        vertical-align: top;\n",
       "    }\n",
       "\n",
       "    .dataframe thead th {\n",
       "        text-align: right;\n",
       "    }\n",
       "</style>\n",
       "<table border=\"1\" class=\"dataframe\">\n",
       "  <thead>\n",
       "    <tr style=\"text-align: right;\">\n",
       "      <th></th>\n",
       "      <th>week</th>\n",
       "      <th>rtx_4090_popularity</th>\n",
       "      <th>rtx_4080_popularity</th>\n",
       "      <th>rtx_4070_popularity</th>\n",
       "    </tr>\n",
       "  </thead>\n",
       "  <tbody>\n",
       "    <tr>\n",
       "      <th>154</th>\n",
       "      <td>2024-12-08</td>\n",
       "      <td>22</td>\n",
       "      <td>54</td>\n",
       "      <td>74</td>\n",
       "    </tr>\n",
       "    <tr>\n",
       "      <th>155</th>\n",
       "      <td>2024-12-15</td>\n",
       "      <td>21</td>\n",
       "      <td>56</td>\n",
       "      <td>74</td>\n",
       "    </tr>\n",
       "    <tr>\n",
       "      <th>156</th>\n",
       "      <td>2024-12-22</td>\n",
       "      <td>23</td>\n",
       "      <td>64</td>\n",
       "      <td>84</td>\n",
       "    </tr>\n",
       "    <tr>\n",
       "      <th>157</th>\n",
       "      <td>2024-12-29</td>\n",
       "      <td>22</td>\n",
       "      <td>59</td>\n",
       "      <td>80</td>\n",
       "    </tr>\n",
       "    <tr>\n",
       "      <th>158</th>\n",
       "      <td>2025-01-05</td>\n",
       "      <td>45</td>\n",
       "      <td>79</td>\n",
       "      <td>88</td>\n",
       "    </tr>\n",
       "  </tbody>\n",
       "</table>\n",
       "</div>"
      ],
      "text/plain": [
       "          week  rtx_4090_popularity  rtx_4080_popularity rtx_4070_popularity\n",
       "154 2024-12-08                   22                   54                  74\n",
       "155 2024-12-15                   21                   56                  74\n",
       "156 2024-12-22                   23                   64                  84\n",
       "157 2024-12-29                   22                   59                  80\n",
       "158 2025-01-05                   45                   79                  88"
      ]
     },
     "execution_count": 7,
     "metadata": {},
     "output_type": "execute_result"
    }
   ],
   "source": [
    "df_trends = df_rtx4090.merge(df_rtx4080, on=['week'], how='outer').merge(df_rtx4070, on=['week'], how='outer').sort_values('week')\n",
    "df_trends.tail(5)"
   ]
  },
  {
   "cell_type": "code",
   "execution_count": 8,
   "id": "33f20759",
   "metadata": {},
   "outputs": [
    {
     "data": {
      "text/html": [
       "<div>\n",
       "<style scoped>\n",
       "    .dataframe tbody tr th:only-of-type {\n",
       "        vertical-align: middle;\n",
       "    }\n",
       "\n",
       "    .dataframe tbody tr th {\n",
       "        vertical-align: top;\n",
       "    }\n",
       "\n",
       "    .dataframe thead th {\n",
       "        text-align: right;\n",
       "    }\n",
       "</style>\n",
       "<table border=\"1\" class=\"dataframe\">\n",
       "  <thead>\n",
       "    <tr style=\"text-align: right;\">\n",
       "      <th></th>\n",
       "      <th>date</th>\n",
       "      <th>rtx_4090_popularity</th>\n",
       "      <th>rtx_4080_popularity</th>\n",
       "      <th>rtx_4070_popularity</th>\n",
       "    </tr>\n",
       "  </thead>\n",
       "  <tbody>\n",
       "    <tr>\n",
       "      <th>0</th>\n",
       "      <td>2021-12-26</td>\n",
       "      <td>1</td>\n",
       "      <td>1</td>\n",
       "      <td>&lt;1</td>\n",
       "    </tr>\n",
       "    <tr>\n",
       "      <th>1</th>\n",
       "      <td>2022-01-02</td>\n",
       "      <td>1</td>\n",
       "      <td>2</td>\n",
       "      <td>&lt;1</td>\n",
       "    </tr>\n",
       "    <tr>\n",
       "      <th>2</th>\n",
       "      <td>2022-01-09</td>\n",
       "      <td>1</td>\n",
       "      <td>2</td>\n",
       "      <td>&lt;1</td>\n",
       "    </tr>\n",
       "    <tr>\n",
       "      <th>3</th>\n",
       "      <td>2022-01-16</td>\n",
       "      <td>1</td>\n",
       "      <td>2</td>\n",
       "      <td>&lt;1</td>\n",
       "    </tr>\n",
       "    <tr>\n",
       "      <th>4</th>\n",
       "      <td>2022-01-23</td>\n",
       "      <td>1</td>\n",
       "      <td>2</td>\n",
       "      <td>&lt;1</td>\n",
       "    </tr>\n",
       "  </tbody>\n",
       "</table>\n",
       "</div>"
      ],
      "text/plain": [
       "        date  rtx_4090_popularity  rtx_4080_popularity rtx_4070_popularity\n",
       "0 2021-12-26                    1                    1                  <1\n",
       "1 2022-01-02                    1                    2                  <1\n",
       "2 2022-01-09                    1                    2                  <1\n",
       "3 2022-01-16                    1                    2                  <1\n",
       "4 2022-01-23                    1                    2                  <1"
      ]
     },
     "execution_count": 8,
     "metadata": {},
     "output_type": "execute_result"
    }
   ],
   "source": [
    "df_trends = df_trends.rename(columns={'week': 'date'})\n",
    "df_trends.head(5)"
   ]
  },
  {
   "cell_type": "markdown",
   "id": "0e6c6b1e",
   "metadata": {},
   "source": [
    "створюю базову колонку з усіма необхідними днями для подальшого об'єднання"
   ]
  },
  {
   "cell_type": "code",
   "execution_count": 9,
   "id": "58ccc760",
   "metadata": {},
   "outputs": [
    {
     "data": {
      "text/html": [
       "<div>\n",
       "<style scoped>\n",
       "    .dataframe tbody tr th:only-of-type {\n",
       "        vertical-align: middle;\n",
       "    }\n",
       "\n",
       "    .dataframe tbody tr th {\n",
       "        vertical-align: top;\n",
       "    }\n",
       "\n",
       "    .dataframe thead th {\n",
       "        text-align: right;\n",
       "    }\n",
       "</style>\n",
       "<table border=\"1\" class=\"dataframe\">\n",
       "  <thead>\n",
       "    <tr style=\"text-align: right;\">\n",
       "      <th></th>\n",
       "      <th>date</th>\n",
       "    </tr>\n",
       "  </thead>\n",
       "  <tbody>\n",
       "    <tr>\n",
       "      <th>0</th>\n",
       "      <td>2021-12-26</td>\n",
       "    </tr>\n",
       "    <tr>\n",
       "      <th>1</th>\n",
       "      <td>2021-12-27</td>\n",
       "    </tr>\n",
       "    <tr>\n",
       "      <th>2</th>\n",
       "      <td>2021-12-28</td>\n",
       "    </tr>\n",
       "    <tr>\n",
       "      <th>3</th>\n",
       "      <td>2021-12-29</td>\n",
       "    </tr>\n",
       "    <tr>\n",
       "      <th>4</th>\n",
       "      <td>2021-12-30</td>\n",
       "    </tr>\n",
       "  </tbody>\n",
       "</table>\n",
       "</div>"
      ],
      "text/plain": [
       "        date\n",
       "0 2021-12-26\n",
       "1 2021-12-27\n",
       "2 2021-12-28\n",
       "3 2021-12-29\n",
       "4 2021-12-30"
      ]
     },
     "execution_count": 9,
     "metadata": {},
     "output_type": "execute_result"
    }
   ],
   "source": [
    "all_dates = pd.DataFrame({'date': pd.date_range(df_trends['date'].min(), df_trends['date'].max())})\n",
    "all_dates.head(5)"
   ]
  },
  {
   "cell_type": "markdown",
   "id": "66583549",
   "metadata": {},
   "source": [
    "об'єдную всі дані. Оскільки таблиця про популярність відеокарт розбивається по тижням, а таблицями з акціями NVIDIA по дням, то в результаті об'єднання виникнуть пусті значення в колонках з популярністю відеокарт. Щоб це виправити заповнюю пусті дані в колонках з популярністю однаковим значенням протагом тижня по всіх днях цього тижня"
   ]
  },
  {
   "cell_type": "code",
   "execution_count": 10,
   "id": "78f91c8b",
   "metadata": {},
   "outputs": [
    {
     "data": {
      "text/html": [
       "<div>\n",
       "<style scoped>\n",
       "    .dataframe tbody tr th:only-of-type {\n",
       "        vertical-align: middle;\n",
       "    }\n",
       "\n",
       "    .dataframe tbody tr th {\n",
       "        vertical-align: top;\n",
       "    }\n",
       "\n",
       "    .dataframe thead th {\n",
       "        text-align: right;\n",
       "    }\n",
       "</style>\n",
       "<table border=\"1\" class=\"dataframe\">\n",
       "  <thead>\n",
       "    <tr style=\"text-align: right;\">\n",
       "      <th></th>\n",
       "      <th>ticker</th>\n",
       "      <th>date</th>\n",
       "      <th>open</th>\n",
       "      <th>high</th>\n",
       "      <th>low</th>\n",
       "      <th>close</th>\n",
       "      <th>adj_close</th>\n",
       "      <th>volume</th>\n",
       "      <th>rtx_4090_popularity</th>\n",
       "      <th>rtx_4080_popularity</th>\n",
       "      <th>rtx_4070_popularity</th>\n",
       "    </tr>\n",
       "  </thead>\n",
       "  <tbody>\n",
       "    <tr>\n",
       "      <th>750</th>\n",
       "      <td>NVDA</td>\n",
       "      <td>2024-12-27</td>\n",
       "      <td>138.550003</td>\n",
       "      <td>139.020004</td>\n",
       "      <td>134.710007</td>\n",
       "      <td>137.009995</td>\n",
       "      <td>136.987869</td>\n",
       "      <td>170582600</td>\n",
       "      <td>23.0</td>\n",
       "      <td>64.0</td>\n",
       "      <td>84</td>\n",
       "    </tr>\n",
       "    <tr>\n",
       "      <th>751</th>\n",
       "      <td>NVDA</td>\n",
       "      <td>2024-12-30</td>\n",
       "      <td>134.830002</td>\n",
       "      <td>140.270004</td>\n",
       "      <td>134.020004</td>\n",
       "      <td>137.490005</td>\n",
       "      <td>137.467804</td>\n",
       "      <td>167734700</td>\n",
       "      <td>22.0</td>\n",
       "      <td>59.0</td>\n",
       "      <td>80</td>\n",
       "    </tr>\n",
       "    <tr>\n",
       "      <th>752</th>\n",
       "      <td>NVDA</td>\n",
       "      <td>2024-12-31</td>\n",
       "      <td>138.029999</td>\n",
       "      <td>138.070007</td>\n",
       "      <td>133.830002</td>\n",
       "      <td>134.289993</td>\n",
       "      <td>134.268326</td>\n",
       "      <td>155659200</td>\n",
       "      <td>22.0</td>\n",
       "      <td>59.0</td>\n",
       "      <td>80</td>\n",
       "    </tr>\n",
       "    <tr>\n",
       "      <th>753</th>\n",
       "      <td>NVDA</td>\n",
       "      <td>2025-01-02</td>\n",
       "      <td>136.000000</td>\n",
       "      <td>138.880005</td>\n",
       "      <td>134.630005</td>\n",
       "      <td>138.309998</td>\n",
       "      <td>138.287674</td>\n",
       "      <td>198247200</td>\n",
       "      <td>22.0</td>\n",
       "      <td>59.0</td>\n",
       "      <td>80</td>\n",
       "    </tr>\n",
       "    <tr>\n",
       "      <th>754</th>\n",
       "      <td>NVDA</td>\n",
       "      <td>2025-01-03</td>\n",
       "      <td>140.009995</td>\n",
       "      <td>144.899994</td>\n",
       "      <td>139.729996</td>\n",
       "      <td>144.470001</td>\n",
       "      <td>144.446686</td>\n",
       "      <td>229322500</td>\n",
       "      <td>22.0</td>\n",
       "      <td>59.0</td>\n",
       "      <td>80</td>\n",
       "    </tr>\n",
       "  </tbody>\n",
       "</table>\n",
       "</div>"
      ],
      "text/plain": [
       "    ticker       date        open        high         low       close  \\\n",
       "750   NVDA 2024-12-27  138.550003  139.020004  134.710007  137.009995   \n",
       "751   NVDA 2024-12-30  134.830002  140.270004  134.020004  137.490005   \n",
       "752   NVDA 2024-12-31  138.029999  138.070007  133.830002  134.289993   \n",
       "753   NVDA 2025-01-02  136.000000  138.880005  134.630005  138.309998   \n",
       "754   NVDA 2025-01-03  140.009995  144.899994  139.729996  144.470001   \n",
       "\n",
       "      adj_close     volume  rtx_4090_popularity  rtx_4080_popularity  \\\n",
       "750  136.987869  170582600                 23.0                 64.0   \n",
       "751  137.467804  167734700                 22.0                 59.0   \n",
       "752  134.268326  155659200                 22.0                 59.0   \n",
       "753  138.287674  198247200                 22.0                 59.0   \n",
       "754  144.446686  229322500                 22.0                 59.0   \n",
       "\n",
       "    rtx_4070_popularity  \n",
       "750                  84  \n",
       "751                  80  \n",
       "752                  80  \n",
       "753                  80  \n",
       "754                  80  "
      ]
     },
     "execution_count": 10,
     "metadata": {},
     "output_type": "execute_result"
    }
   ],
   "source": [
    "trend_daily = all_dates.merge(df_trends, on='date', how='left').ffill()\n",
    "df_origin = df_stocks.merge(trend_daily, on='date', how='left')\n",
    "df_origin.tail(5)"
   ]
  },
  {
   "cell_type": "markdown",
   "id": "03ee10b5",
   "metadata": {},
   "source": [
    "rtx_4070_popularity має тип int що відрізняється від інших колонок. Також маємо значення <1. Змінимо це значення на 0 та змінимо тип даних"
   ]
  },
  {
   "cell_type": "code",
   "execution_count": 11,
   "id": "4725a867",
   "metadata": {},
   "outputs": [
    {
     "data": {
      "text/plain": [
       "0    0.0\n",
       "1    0.0\n",
       "2    0.0\n",
       "3    0.0\n",
       "4    0.0\n",
       "Name: rtx_4070_popularity, dtype: float64"
      ]
     },
     "execution_count": 11,
     "metadata": {},
     "output_type": "execute_result"
    }
   ],
   "source": [
    "df = df_origin.copy()\n",
    "df['rtx_4070_popularity'] = df['rtx_4070_popularity'].replace({'<1': 0.0})\n",
    "df['rtx_4070_popularity'] = df['rtx_4070_popularity'].astype(float)\n",
    "df['rtx_4070_popularity'].head(5)"
   ]
  },
  {
   "cell_type": "markdown",
   "id": "add2d576",
   "metadata": {},
   "source": [
    "## EDA"
   ]
  },
  {
   "cell_type": "markdown",
   "id": "01ff0dfb",
   "metadata": {},
   "source": [
    "### дізнаюся статистичні дані про таблицю"
   ]
  },
  {
   "cell_type": "code",
   "execution_count": 12,
   "id": "4f846fa6",
   "metadata": {},
   "outputs": [
    {
     "name": "stdout",
     "output_type": "stream",
     "text": [
      "(755, 11)\n"
     ]
    },
    {
     "data": {
      "text/html": [
       "<div>\n",
       "<style scoped>\n",
       "    .dataframe tbody tr th:only-of-type {\n",
       "        vertical-align: middle;\n",
       "    }\n",
       "\n",
       "    .dataframe tbody tr th {\n",
       "        vertical-align: top;\n",
       "    }\n",
       "\n",
       "    .dataframe thead th {\n",
       "        text-align: right;\n",
       "    }\n",
       "</style>\n",
       "<table border=\"1\" class=\"dataframe\">\n",
       "  <thead>\n",
       "    <tr style=\"text-align: right;\">\n",
       "      <th></th>\n",
       "      <th>date</th>\n",
       "      <th>open</th>\n",
       "      <th>high</th>\n",
       "      <th>low</th>\n",
       "      <th>close</th>\n",
       "      <th>adj_close</th>\n",
       "      <th>volume</th>\n",
       "      <th>rtx_4090_popularity</th>\n",
       "      <th>rtx_4080_popularity</th>\n",
       "      <th>rtx_4070_popularity</th>\n",
       "    </tr>\n",
       "  </thead>\n",
       "  <tbody>\n",
       "    <tr>\n",
       "      <th>count</th>\n",
       "      <td>755</td>\n",
       "      <td>755.000000</td>\n",
       "      <td>755.000000</td>\n",
       "      <td>755.000000</td>\n",
       "      <td>755.000000</td>\n",
       "      <td>755.000000</td>\n",
       "      <td>7.550000e+02</td>\n",
       "      <td>755.000000</td>\n",
       "      <td>755.000000</td>\n",
       "      <td>755.000000</td>\n",
       "    </tr>\n",
       "    <tr>\n",
       "      <th>mean</th>\n",
       "      <td>2023-07-04 13:21:03.576159232</td>\n",
       "      <td>54.647417</td>\n",
       "      <td>55.664199</td>\n",
       "      <td>53.532205</td>\n",
       "      <td>54.646250</td>\n",
       "      <td>54.618320</td>\n",
       "      <td>4.638991e+08</td>\n",
       "      <td>15.198675</td>\n",
       "      <td>31.781457</td>\n",
       "      <td>31.703311</td>\n",
       "    </tr>\n",
       "    <tr>\n",
       "      <th>min</th>\n",
       "      <td>2022-01-03 00:00:00</td>\n",
       "      <td>10.971000</td>\n",
       "      <td>11.735000</td>\n",
       "      <td>10.813000</td>\n",
       "      <td>11.227000</td>\n",
       "      <td>11.214160</td>\n",
       "      <td>1.051570e+08</td>\n",
       "      <td>1.000000</td>\n",
       "      <td>2.000000</td>\n",
       "      <td>0.000000</td>\n",
       "    </tr>\n",
       "    <tr>\n",
       "      <th>25%</th>\n",
       "      <td>2022-10-03 12:00:00</td>\n",
       "      <td>19.576500</td>\n",
       "      <td>20.082500</td>\n",
       "      <td>19.023001</td>\n",
       "      <td>19.596999</td>\n",
       "      <td>19.564636</td>\n",
       "      <td>3.622435e+08</td>\n",
       "      <td>12.000000</td>\n",
       "      <td>28.000000</td>\n",
       "      <td>4.000000</td>\n",
       "    </tr>\n",
       "    <tr>\n",
       "      <th>50%</th>\n",
       "      <td>2023-07-06 00:00:00</td>\n",
       "      <td>41.750999</td>\n",
       "      <td>42.549999</td>\n",
       "      <td>41.077999</td>\n",
       "      <td>42.101002</td>\n",
       "      <td>42.077106</td>\n",
       "      <td>4.507360e+08</td>\n",
       "      <td>16.000000</td>\n",
       "      <td>34.000000</td>\n",
       "      <td>36.000000</td>\n",
       "    </tr>\n",
       "    <tr>\n",
       "      <th>75%</th>\n",
       "      <td>2024-04-04 12:00:00</td>\n",
       "      <td>88.035503</td>\n",
       "      <td>89.909000</td>\n",
       "      <td>86.278503</td>\n",
       "      <td>87.890499</td>\n",
       "      <td>87.855526</td>\n",
       "      <td>5.496925e+08</td>\n",
       "      <td>19.000000</td>\n",
       "      <td>42.000000</td>\n",
       "      <td>49.000000</td>\n",
       "    </tr>\n",
       "    <tr>\n",
       "      <th>max</th>\n",
       "      <td>2025-01-03 00:00:00</td>\n",
       "      <td>149.350006</td>\n",
       "      <td>152.889999</td>\n",
       "      <td>146.259995</td>\n",
       "      <td>148.880005</td>\n",
       "      <td>148.845718</td>\n",
       "      <td>1.543911e+09</td>\n",
       "      <td>100.000000</td>\n",
       "      <td>100.000000</td>\n",
       "      <td>100.000000</td>\n",
       "    </tr>\n",
       "    <tr>\n",
       "      <th>std</th>\n",
       "      <td>NaN</td>\n",
       "      <td>42.423127</td>\n",
       "      <td>43.118542</td>\n",
       "      <td>41.544147</td>\n",
       "      <td>42.356265</td>\n",
       "      <td>42.352333</td>\n",
       "      <td>1.671663e+08</td>\n",
       "      <td>11.533494</td>\n",
       "      <td>18.973978</td>\n",
       "      <td>25.074995</td>\n",
       "    </tr>\n",
       "  </tbody>\n",
       "</table>\n",
       "</div>"
      ],
      "text/plain": [
       "                                date        open        high         low  \\\n",
       "count                            755  755.000000  755.000000  755.000000   \n",
       "mean   2023-07-04 13:21:03.576159232   54.647417   55.664199   53.532205   \n",
       "min              2022-01-03 00:00:00   10.971000   11.735000   10.813000   \n",
       "25%              2022-10-03 12:00:00   19.576500   20.082500   19.023001   \n",
       "50%              2023-07-06 00:00:00   41.750999   42.549999   41.077999   \n",
       "75%              2024-04-04 12:00:00   88.035503   89.909000   86.278503   \n",
       "max              2025-01-03 00:00:00  149.350006  152.889999  146.259995   \n",
       "std                              NaN   42.423127   43.118542   41.544147   \n",
       "\n",
       "            close   adj_close        volume  rtx_4090_popularity  \\\n",
       "count  755.000000  755.000000  7.550000e+02           755.000000   \n",
       "mean    54.646250   54.618320  4.638991e+08            15.198675   \n",
       "min     11.227000   11.214160  1.051570e+08             1.000000   \n",
       "25%     19.596999   19.564636  3.622435e+08            12.000000   \n",
       "50%     42.101002   42.077106  4.507360e+08            16.000000   \n",
       "75%     87.890499   87.855526  5.496925e+08            19.000000   \n",
       "max    148.880005  148.845718  1.543911e+09           100.000000   \n",
       "std     42.356265   42.352333  1.671663e+08            11.533494   \n",
       "\n",
       "       rtx_4080_popularity  rtx_4070_popularity  \n",
       "count           755.000000           755.000000  \n",
       "mean             31.781457            31.703311  \n",
       "min               2.000000             0.000000  \n",
       "25%              28.000000             4.000000  \n",
       "50%              34.000000            36.000000  \n",
       "75%              42.000000            49.000000  \n",
       "max             100.000000           100.000000  \n",
       "std              18.973978            25.074995  "
      ]
     },
     "execution_count": 12,
     "metadata": {},
     "output_type": "execute_result"
    }
   ],
   "source": [
    "print(df.shape)\n",
    "df.describe()"
   ]
  },
  {
   "cell_type": "markdown",
   "id": "ef8c2cde",
   "metadata": {},
   "source": [
    "### ще деяка інформація про наші колонки"
   ]
  },
  {
   "cell_type": "code",
   "execution_count": 13,
   "id": "af9b86d6",
   "metadata": {},
   "outputs": [
    {
     "name": "stdout",
     "output_type": "stream",
     "text": [
      "<class 'pandas.core.frame.DataFrame'>\n",
      "RangeIndex: 755 entries, 0 to 754\n",
      "Data columns (total 11 columns):\n",
      " #   Column               Non-Null Count  Dtype         \n",
      "---  ------               --------------  -----         \n",
      " 0   ticker               755 non-null    object        \n",
      " 1   date                 755 non-null    datetime64[ns]\n",
      " 2   open                 755 non-null    float64       \n",
      " 3   high                 755 non-null    float64       \n",
      " 4   low                  755 non-null    float64       \n",
      " 5   close                755 non-null    float64       \n",
      " 6   adj_close            755 non-null    float64       \n",
      " 7   volume               755 non-null    int64         \n",
      " 8   rtx_4090_popularity  755 non-null    float64       \n",
      " 9   rtx_4080_popularity  755 non-null    float64       \n",
      " 10  rtx_4070_popularity  755 non-null    float64       \n",
      "dtypes: datetime64[ns](1), float64(8), int64(1), object(1)\n",
      "memory usage: 65.0+ KB\n"
     ]
    }
   ],
   "source": [
    "df.info()"
   ]
  },
  {
   "cell_type": "markdown",
   "id": "d2df6de2",
   "metadata": {},
   "source": [
    "### значення в кожній колонці"
   ]
  },
  {
   "cell_type": "code",
   "execution_count": 14,
   "id": "df4823c0",
   "metadata": {},
   "outputs": [
    {
     "name": "stdout",
     "output_type": "stream",
     "text": [
      "ticker\n",
      "NVDA    755\n",
      "Name: count, dtype: int64\n",
      "кількість null значень: 0\n",
      "\n",
      "date\n",
      "2025-01-03    1\n",
      "2022-01-03    1\n",
      "2022-01-04    1\n",
      "2022-01-05    1\n",
      "2022-01-06    1\n",
      "             ..\n",
      "2022-02-03    1\n",
      "2022-02-04    1\n",
      "2022-02-07    1\n",
      "2022-02-08    1\n",
      "2022-02-09    1\n",
      "Name: count, Length: 755, dtype: int64\n",
      "кількість null значень: 0\n",
      "\n",
      "open\n",
      "21.000000     3\n",
      "16.020000     2\n",
      "22.386999     2\n",
      "27.840000     2\n",
      "121.769997    2\n",
      "             ..\n",
      "138.550003    1\n",
      "134.830002    1\n",
      "138.029999    1\n",
      "136.000000    1\n",
      "22.011999     1\n",
      "Name: count, Length: 747, dtype: int64\n",
      "кількість null значень: 0\n",
      "\n",
      "high\n",
      "13.838000     3\n",
      "28.000000     3\n",
      "18.118000     2\n",
      "22.372999     2\n",
      "27.499001     2\n",
      "             ..\n",
      "139.020004    1\n",
      "140.270004    1\n",
      "138.070007    1\n",
      "138.880005    1\n",
      "139.300003    1\n",
      "Name: count, Length: 745, dtype: int64\n",
      "кількість null значень: 0\n",
      "\n",
      "low\n",
      "12.105000     2\n",
      "16.172001     2\n",
      "17.990000     2\n",
      "15.389000     2\n",
      "47.860001     2\n",
      "             ..\n",
      "134.710007    1\n",
      "134.020004    1\n",
      "133.830002    1\n",
      "134.630005    1\n",
      "21.296000     1\n",
      "Name: count, Length: 747, dtype: int64\n",
      "кількість null значень: 0\n",
      "\n",
      "close\n",
      "26.495001     2\n",
      "13.176000     2\n",
      "13.261000     2\n",
      "49.521999     2\n",
      "123.540001    2\n",
      "             ..\n",
      "137.009995    1\n",
      "137.490005    1\n",
      "134.289993    1\n",
      "138.309998    1\n",
      "29.290001     1\n",
      "Name: count, Length: 750, dtype: int64\n",
      "кількість null значень: 0\n",
      "\n",
      "adj_close\n",
      "13.245835     2\n",
      "13.160931     2\n",
      "49.499973     2\n",
      "123.500992    2\n",
      "27.350090     1\n",
      "             ..\n",
      "136.987869    1\n",
      "137.467804    1\n",
      "134.268326    1\n",
      "138.287674    1\n",
      "27.553719     1\n",
      "Name: count, Length: 751, dtype: int64\n",
      "кількість null значень: 0\n",
      "\n",
      "volume\n",
      "229322500    1\n",
      "391547000    1\n",
      "527154000    1\n",
      "498064000    1\n",
      "454186000    1\n",
      "            ..\n",
      "410178000    1\n",
      "354829000    1\n",
      "376868000    1\n",
      "410359000    1\n",
      "524282000    1\n",
      "Name: count, Length: 755, dtype: int64\n",
      "кількість null значень: 0\n",
      "\n",
      "rtx_4090_popularity\n",
      "1.0      116\n",
      "16.0      74\n",
      "17.0      66\n",
      "15.0      63\n",
      "14.0      58\n",
      "2.0       57\n",
      "18.0      49\n",
      "19.0      39\n",
      "21.0      33\n",
      "13.0      29\n",
      "23.0      26\n",
      "20.0      25\n",
      "12.0      24\n",
      "22.0      19\n",
      "24.0      19\n",
      "25.0       9\n",
      "7.0        5\n",
      "46.0       5\n",
      "34.0       5\n",
      "40.0       5\n",
      "51.0       5\n",
      "100.0      5\n",
      "44.0       5\n",
      "30.0       5\n",
      "28.0       5\n",
      "26.0       4\n",
      "Name: count, dtype: int64\n",
      "кількість null значень: 0\n",
      "\n",
      "rtx_4080_popularity\n",
      "31.0     74\n",
      "5.0      52\n",
      "35.0     48\n",
      "3.0      44\n",
      "32.0     39\n",
      "2.0      39\n",
      "42.0     35\n",
      "29.0     34\n",
      "34.0     33\n",
      "37.0     29\n",
      "38.0     25\n",
      "45.0     24\n",
      "40.0     19\n",
      "4.0      19\n",
      "36.0     15\n",
      "41.0     14\n",
      "54.0     14\n",
      "33.0     14\n",
      "48.0     14\n",
      "46.0     10\n",
      "6.0      10\n",
      "30.0     10\n",
      "43.0     10\n",
      "55.0     10\n",
      "28.0      9\n",
      "59.0      9\n",
      "50.0      9\n",
      "49.0      8\n",
      "7.0       5\n",
      "10.0      5\n",
      "56.0      5\n",
      "24.0      5\n",
      "73.0      5\n",
      "27.0      5\n",
      "97.0      5\n",
      "100.0     5\n",
      "68.0      5\n",
      "39.0      5\n",
      "67.0      5\n",
      "44.0      5\n",
      "61.0      5\n",
      "8.0       4\n",
      "52.0      4\n",
      "47.0      4\n",
      "77.0      4\n",
      "64.0      4\n",
      "Name: count, dtype: int64\n",
      "кількість null значень: 0\n",
      "\n",
      "rtx_4070_popularity\n",
      "1.0      106\n",
      "0.0       43\n",
      "2.0       29\n",
      "35.0      25\n",
      "38.0      25\n",
      "19.0      25\n",
      "5.0       25\n",
      "42.0      25\n",
      "4.0       24\n",
      "44.0      23\n",
      "55.0      20\n",
      "37.0      20\n",
      "45.0      20\n",
      "48.0      19\n",
      "49.0      19\n",
      "58.0      15\n",
      "50.0      15\n",
      "51.0      15\n",
      "34.0      15\n",
      "74.0      15\n",
      "39.0      14\n",
      "36.0      14\n",
      "54.0      14\n",
      "57.0      14\n",
      "20.0      13\n",
      "41.0      10\n",
      "3.0       10\n",
      "18.0      10\n",
      "33.0       9\n",
      "56.0       9\n",
      "6.0        5\n",
      "81.0       5\n",
      "82.0       5\n",
      "68.0       5\n",
      "79.0       5\n",
      "22.0       5\n",
      "26.0       5\n",
      "7.0        5\n",
      "89.0       5\n",
      "63.0       5\n",
      "47.0       5\n",
      "59.0       5\n",
      "52.0       5\n",
      "69.0       5\n",
      "46.0       5\n",
      "9.0        4\n",
      "24.0       4\n",
      "32.0       4\n",
      "66.0       4\n",
      "93.0       4\n",
      "43.0       4\n",
      "53.0       4\n",
      "100.0      4\n",
      "84.0       4\n",
      "80.0       4\n",
      "Name: count, dtype: int64\n",
      "кількість null значень: 0\n",
      "\n"
     ]
    }
   ],
   "source": [
    "columns = df.columns\n",
    "\n",
    "for i in columns:\n",
    "    print(df[i].value_counts())\n",
    "    print(f'кількість null значень: {sum(df[i].isnull())}')\n",
    "    print()"
   ]
  },
  {
   "cell_type": "markdown",
   "id": "db0dc9d3",
   "metadata": {},
   "source": [
    "## Feature Engineering"
   ]
  },
  {
   "cell_type": "markdown",
   "id": "f28dba08",
   "metadata": {},
   "source": [
    "### Часові агрегати"
   ]
  },
  {
   "cell_type": "markdown",
   "id": "ec7f2057",
   "metadata": {},
   "source": [
    "добуваємо дані, які показують рік, квартал і місяць"
   ]
  },
  {
   "cell_type": "code",
   "execution_count": 15,
   "id": "71be65fd",
   "metadata": {},
   "outputs": [
    {
     "data": {
      "text/html": [
       "<div>\n",
       "<style scoped>\n",
       "    .dataframe tbody tr th:only-of-type {\n",
       "        vertical-align: middle;\n",
       "    }\n",
       "\n",
       "    .dataframe tbody tr th {\n",
       "        vertical-align: top;\n",
       "    }\n",
       "\n",
       "    .dataframe thead th {\n",
       "        text-align: right;\n",
       "    }\n",
       "</style>\n",
       "<table border=\"1\" class=\"dataframe\">\n",
       "  <thead>\n",
       "    <tr style=\"text-align: right;\">\n",
       "      <th></th>\n",
       "      <th>ticker</th>\n",
       "      <th>date</th>\n",
       "      <th>open</th>\n",
       "      <th>high</th>\n",
       "      <th>low</th>\n",
       "      <th>close</th>\n",
       "      <th>adj_close</th>\n",
       "      <th>volume</th>\n",
       "      <th>rtx_4090_popularity</th>\n",
       "      <th>rtx_4080_popularity</th>\n",
       "      <th>rtx_4070_popularity</th>\n",
       "      <th>year</th>\n",
       "      <th>quarter</th>\n",
       "      <th>month</th>\n",
       "      <th>month_name</th>\n",
       "    </tr>\n",
       "  </thead>\n",
       "  <tbody>\n",
       "    <tr>\n",
       "      <th>0</th>\n",
       "      <td>NVDA</td>\n",
       "      <td>2022-01-03</td>\n",
       "      <td>29.815001</td>\n",
       "      <td>30.711000</td>\n",
       "      <td>29.785000</td>\n",
       "      <td>30.121000</td>\n",
       "      <td>30.066133</td>\n",
       "      <td>391547000</td>\n",
       "      <td>1.0</td>\n",
       "      <td>2.0</td>\n",
       "      <td>0.0</td>\n",
       "      <td>2022</td>\n",
       "      <td>1</td>\n",
       "      <td>1</td>\n",
       "      <td>January</td>\n",
       "    </tr>\n",
       "    <tr>\n",
       "      <th>1</th>\n",
       "      <td>NVDA</td>\n",
       "      <td>2022-01-04</td>\n",
       "      <td>30.277000</td>\n",
       "      <td>30.468000</td>\n",
       "      <td>28.349001</td>\n",
       "      <td>29.290001</td>\n",
       "      <td>29.236649</td>\n",
       "      <td>527154000</td>\n",
       "      <td>1.0</td>\n",
       "      <td>2.0</td>\n",
       "      <td>0.0</td>\n",
       "      <td>2022</td>\n",
       "      <td>1</td>\n",
       "      <td>1</td>\n",
       "      <td>January</td>\n",
       "    </tr>\n",
       "    <tr>\n",
       "      <th>2</th>\n",
       "      <td>NVDA</td>\n",
       "      <td>2022-01-05</td>\n",
       "      <td>28.948999</td>\n",
       "      <td>29.416000</td>\n",
       "      <td>27.533001</td>\n",
       "      <td>27.604000</td>\n",
       "      <td>27.553719</td>\n",
       "      <td>498064000</td>\n",
       "      <td>1.0</td>\n",
       "      <td>2.0</td>\n",
       "      <td>0.0</td>\n",
       "      <td>2022</td>\n",
       "      <td>1</td>\n",
       "      <td>1</td>\n",
       "      <td>January</td>\n",
       "    </tr>\n",
       "    <tr>\n",
       "      <th>3</th>\n",
       "      <td>NVDA</td>\n",
       "      <td>2022-01-06</td>\n",
       "      <td>27.639999</td>\n",
       "      <td>28.438000</td>\n",
       "      <td>27.065001</td>\n",
       "      <td>28.177999</td>\n",
       "      <td>28.126673</td>\n",
       "      <td>454186000</td>\n",
       "      <td>1.0</td>\n",
       "      <td>2.0</td>\n",
       "      <td>0.0</td>\n",
       "      <td>2022</td>\n",
       "      <td>1</td>\n",
       "      <td>1</td>\n",
       "      <td>January</td>\n",
       "    </tr>\n",
       "    <tr>\n",
       "      <th>4</th>\n",
       "      <td>NVDA</td>\n",
       "      <td>2022-01-07</td>\n",
       "      <td>28.141001</td>\n",
       "      <td>28.422001</td>\n",
       "      <td>27.056999</td>\n",
       "      <td>27.247000</td>\n",
       "      <td>27.197369</td>\n",
       "      <td>409939000</td>\n",
       "      <td>1.0</td>\n",
       "      <td>2.0</td>\n",
       "      <td>0.0</td>\n",
       "      <td>2022</td>\n",
       "      <td>1</td>\n",
       "      <td>1</td>\n",
       "      <td>January</td>\n",
       "    </tr>\n",
       "  </tbody>\n",
       "</table>\n",
       "</div>"
      ],
      "text/plain": [
       "  ticker       date       open       high        low      close  adj_close  \\\n",
       "0   NVDA 2022-01-03  29.815001  30.711000  29.785000  30.121000  30.066133   \n",
       "1   NVDA 2022-01-04  30.277000  30.468000  28.349001  29.290001  29.236649   \n",
       "2   NVDA 2022-01-05  28.948999  29.416000  27.533001  27.604000  27.553719   \n",
       "3   NVDA 2022-01-06  27.639999  28.438000  27.065001  28.177999  28.126673   \n",
       "4   NVDA 2022-01-07  28.141001  28.422001  27.056999  27.247000  27.197369   \n",
       "\n",
       "      volume  rtx_4090_popularity  rtx_4080_popularity  rtx_4070_popularity  \\\n",
       "0  391547000                  1.0                  2.0                  0.0   \n",
       "1  527154000                  1.0                  2.0                  0.0   \n",
       "2  498064000                  1.0                  2.0                  0.0   \n",
       "3  454186000                  1.0                  2.0                  0.0   \n",
       "4  409939000                  1.0                  2.0                  0.0   \n",
       "\n",
       "   year  quarter  month month_name  \n",
       "0  2022        1      1    January  \n",
       "1  2022        1      1    January  \n",
       "2  2022        1      1    January  \n",
       "3  2022        1      1    January  \n",
       "4  2022        1      1    January  "
      ]
     },
     "execution_count": 15,
     "metadata": {},
     "output_type": "execute_result"
    }
   ],
   "source": [
    "df['year'] = df['date'].dt.year\n",
    "df['quarter'] = df['date'].dt.quarter\n",
    "df['month'] = df['date'].dt.month\n",
    "df['month_name'] = df['date'].dt.month_name()\n",
    "df.head(5)"
   ]
  },
  {
   "cell_type": "markdown",
   "id": "d0ca9f73",
   "metadata": {},
   "source": [
    "Додаємо в таблицю дані по популярності кожного продукту 3, 7, 14 та 30 днів до вказаної в рядку дати"
   ]
  },
  {
   "cell_type": "code",
   "execution_count": 16,
   "id": "aafd0585",
   "metadata": {},
   "outputs": [
    {
     "data": {
      "text/html": [
       "<div>\n",
       "<style scoped>\n",
       "    .dataframe tbody tr th:only-of-type {\n",
       "        vertical-align: middle;\n",
       "    }\n",
       "\n",
       "    .dataframe tbody tr th {\n",
       "        vertical-align: top;\n",
       "    }\n",
       "\n",
       "    .dataframe thead th {\n",
       "        text-align: right;\n",
       "    }\n",
       "</style>\n",
       "<table border=\"1\" class=\"dataframe\">\n",
       "  <thead>\n",
       "    <tr style=\"text-align: right;\">\n",
       "      <th></th>\n",
       "      <th>ticker</th>\n",
       "      <th>date</th>\n",
       "      <th>open</th>\n",
       "      <th>high</th>\n",
       "      <th>low</th>\n",
       "      <th>close</th>\n",
       "      <th>adj_close</th>\n",
       "      <th>volume</th>\n",
       "      <th>rtx_4090_popularity</th>\n",
       "      <th>rtx_4080_popularity</th>\n",
       "      <th>...</th>\n",
       "      <th>rtx_4080_popularity_lag_1</th>\n",
       "      <th>rtx_4080_popularity_lag_3</th>\n",
       "      <th>rtx_4080_popularity_lag_7</th>\n",
       "      <th>rtx_4080_popularity_lag_14</th>\n",
       "      <th>rtx_4080_popularity_lag_30</th>\n",
       "      <th>rtx_4070_popularity_lag_1</th>\n",
       "      <th>rtx_4070_popularity_lag_3</th>\n",
       "      <th>rtx_4070_popularity_lag_7</th>\n",
       "      <th>rtx_4070_popularity_lag_14</th>\n",
       "      <th>rtx_4070_popularity_lag_30</th>\n",
       "    </tr>\n",
       "  </thead>\n",
       "  <tbody>\n",
       "    <tr>\n",
       "      <th>750</th>\n",
       "      <td>NVDA</td>\n",
       "      <td>2024-12-27</td>\n",
       "      <td>138.550003</td>\n",
       "      <td>139.020004</td>\n",
       "      <td>134.710007</td>\n",
       "      <td>137.009995</td>\n",
       "      <td>136.987869</td>\n",
       "      <td>170582600</td>\n",
       "      <td>23.0</td>\n",
       "      <td>64.0</td>\n",
       "      <td>...</td>\n",
       "      <td>64.0</td>\n",
       "      <td>64.0</td>\n",
       "      <td>56.0</td>\n",
       "      <td>61.0</td>\n",
       "      <td>55.0</td>\n",
       "      <td>84.0</td>\n",
       "      <td>84.0</td>\n",
       "      <td>74.0</td>\n",
       "      <td>81.0</td>\n",
       "      <td>74.0</td>\n",
       "    </tr>\n",
       "    <tr>\n",
       "      <th>751</th>\n",
       "      <td>NVDA</td>\n",
       "      <td>2024-12-30</td>\n",
       "      <td>134.830002</td>\n",
       "      <td>140.270004</td>\n",
       "      <td>134.020004</td>\n",
       "      <td>137.490005</td>\n",
       "      <td>137.467804</td>\n",
       "      <td>167734700</td>\n",
       "      <td>22.0</td>\n",
       "      <td>59.0</td>\n",
       "      <td>...</td>\n",
       "      <td>64.0</td>\n",
       "      <td>64.0</td>\n",
       "      <td>56.0</td>\n",
       "      <td>54.0</td>\n",
       "      <td>55.0</td>\n",
       "      <td>84.0</td>\n",
       "      <td>84.0</td>\n",
       "      <td>74.0</td>\n",
       "      <td>74.0</td>\n",
       "      <td>74.0</td>\n",
       "    </tr>\n",
       "    <tr>\n",
       "      <th>752</th>\n",
       "      <td>NVDA</td>\n",
       "      <td>2024-12-31</td>\n",
       "      <td>138.029999</td>\n",
       "      <td>138.070007</td>\n",
       "      <td>133.830002</td>\n",
       "      <td>134.289993</td>\n",
       "      <td>134.268326</td>\n",
       "      <td>155659200</td>\n",
       "      <td>22.0</td>\n",
       "      <td>59.0</td>\n",
       "      <td>...</td>\n",
       "      <td>59.0</td>\n",
       "      <td>64.0</td>\n",
       "      <td>56.0</td>\n",
       "      <td>54.0</td>\n",
       "      <td>55.0</td>\n",
       "      <td>80.0</td>\n",
       "      <td>84.0</td>\n",
       "      <td>74.0</td>\n",
       "      <td>74.0</td>\n",
       "      <td>74.0</td>\n",
       "    </tr>\n",
       "    <tr>\n",
       "      <th>753</th>\n",
       "      <td>NVDA</td>\n",
       "      <td>2025-01-02</td>\n",
       "      <td>136.000000</td>\n",
       "      <td>138.880005</td>\n",
       "      <td>134.630005</td>\n",
       "      <td>138.309998</td>\n",
       "      <td>138.287674</td>\n",
       "      <td>198247200</td>\n",
       "      <td>22.0</td>\n",
       "      <td>59.0</td>\n",
       "      <td>...</td>\n",
       "      <td>59.0</td>\n",
       "      <td>64.0</td>\n",
       "      <td>56.0</td>\n",
       "      <td>54.0</td>\n",
       "      <td>67.0</td>\n",
       "      <td>80.0</td>\n",
       "      <td>84.0</td>\n",
       "      <td>74.0</td>\n",
       "      <td>74.0</td>\n",
       "      <td>82.0</td>\n",
       "    </tr>\n",
       "    <tr>\n",
       "      <th>754</th>\n",
       "      <td>NVDA</td>\n",
       "      <td>2025-01-03</td>\n",
       "      <td>140.009995</td>\n",
       "      <td>144.899994</td>\n",
       "      <td>139.729996</td>\n",
       "      <td>144.470001</td>\n",
       "      <td>144.446686</td>\n",
       "      <td>229322500</td>\n",
       "      <td>22.0</td>\n",
       "      <td>59.0</td>\n",
       "      <td>...</td>\n",
       "      <td>59.0</td>\n",
       "      <td>59.0</td>\n",
       "      <td>64.0</td>\n",
       "      <td>54.0</td>\n",
       "      <td>67.0</td>\n",
       "      <td>80.0</td>\n",
       "      <td>80.0</td>\n",
       "      <td>84.0</td>\n",
       "      <td>74.0</td>\n",
       "      <td>82.0</td>\n",
       "    </tr>\n",
       "  </tbody>\n",
       "</table>\n",
       "<p>5 rows × 30 columns</p>\n",
       "</div>"
      ],
      "text/plain": [
       "    ticker       date        open        high         low       close  \\\n",
       "750   NVDA 2024-12-27  138.550003  139.020004  134.710007  137.009995   \n",
       "751   NVDA 2024-12-30  134.830002  140.270004  134.020004  137.490005   \n",
       "752   NVDA 2024-12-31  138.029999  138.070007  133.830002  134.289993   \n",
       "753   NVDA 2025-01-02  136.000000  138.880005  134.630005  138.309998   \n",
       "754   NVDA 2025-01-03  140.009995  144.899994  139.729996  144.470001   \n",
       "\n",
       "      adj_close     volume  rtx_4090_popularity  rtx_4080_popularity  ...  \\\n",
       "750  136.987869  170582600                 23.0                 64.0  ...   \n",
       "751  137.467804  167734700                 22.0                 59.0  ...   \n",
       "752  134.268326  155659200                 22.0                 59.0  ...   \n",
       "753  138.287674  198247200                 22.0                 59.0  ...   \n",
       "754  144.446686  229322500                 22.0                 59.0  ...   \n",
       "\n",
       "     rtx_4080_popularity_lag_1  rtx_4080_popularity_lag_3  \\\n",
       "750                       64.0                       64.0   \n",
       "751                       64.0                       64.0   \n",
       "752                       59.0                       64.0   \n",
       "753                       59.0                       64.0   \n",
       "754                       59.0                       59.0   \n",
       "\n",
       "     rtx_4080_popularity_lag_7  rtx_4080_popularity_lag_14  \\\n",
       "750                       56.0                        61.0   \n",
       "751                       56.0                        54.0   \n",
       "752                       56.0                        54.0   \n",
       "753                       56.0                        54.0   \n",
       "754                       64.0                        54.0   \n",
       "\n",
       "    rtx_4080_popularity_lag_30  rtx_4070_popularity_lag_1  \\\n",
       "750                       55.0                       84.0   \n",
       "751                       55.0                       84.0   \n",
       "752                       55.0                       80.0   \n",
       "753                       67.0                       80.0   \n",
       "754                       67.0                       80.0   \n",
       "\n",
       "     rtx_4070_popularity_lag_3  rtx_4070_popularity_lag_7  \\\n",
       "750                       84.0                       74.0   \n",
       "751                       84.0                       74.0   \n",
       "752                       84.0                       74.0   \n",
       "753                       84.0                       74.0   \n",
       "754                       80.0                       84.0   \n",
       "\n",
       "     rtx_4070_popularity_lag_14  rtx_4070_popularity_lag_30  \n",
       "750                        81.0                        74.0  \n",
       "751                        74.0                        74.0  \n",
       "752                        74.0                        74.0  \n",
       "753                        74.0                        82.0  \n",
       "754                        74.0                        82.0  \n",
       "\n",
       "[5 rows x 30 columns]"
      ]
     },
     "execution_count": 16,
     "metadata": {},
     "output_type": "execute_result"
    }
   ],
   "source": [
    "lags = [1,3,7,14,30]\n",
    "products = ['rtx_4090_popularity', 'rtx_4080_popularity', 'rtx_4070_popularity']\n",
    "\n",
    "for product in products:\n",
    "    for lag in lags:\n",
    "        col_name = f'{product}_lag_{lag}'\n",
    "        df[col_name] = df[product].shift(lag)\n",
    "\n",
    "        # для рядків що не мають даних по неохідній даті заповнюємо 0\n",
    "        df[col_name] = df[col_name].fillna(0)\n",
    "\n",
    "df.tail(5)"
   ]
  },
  {
   "cell_type": "markdown",
   "id": "19b81435",
   "metadata": {},
   "source": [
    "Також додамо дані з volume 3, 7, 14 та 30 днів до вказаної в рядку дати. Можливо ці дані знадобляться, щоб перевіряти гіпотези про активізацію ринку"
   ]
  },
  {
   "cell_type": "code",
   "execution_count": 17,
   "id": "7bdca028",
   "metadata": {},
   "outputs": [
    {
     "data": {
      "text/html": [
       "<div>\n",
       "<style scoped>\n",
       "    .dataframe tbody tr th:only-of-type {\n",
       "        vertical-align: middle;\n",
       "    }\n",
       "\n",
       "    .dataframe tbody tr th {\n",
       "        vertical-align: top;\n",
       "    }\n",
       "\n",
       "    .dataframe thead th {\n",
       "        text-align: right;\n",
       "    }\n",
       "</style>\n",
       "<table border=\"1\" class=\"dataframe\">\n",
       "  <thead>\n",
       "    <tr style=\"text-align: right;\">\n",
       "      <th></th>\n",
       "      <th>ticker</th>\n",
       "      <th>date</th>\n",
       "      <th>open</th>\n",
       "      <th>high</th>\n",
       "      <th>low</th>\n",
       "      <th>close</th>\n",
       "      <th>adj_close</th>\n",
       "      <th>volume</th>\n",
       "      <th>rtx_4090_popularity</th>\n",
       "      <th>rtx_4080_popularity</th>\n",
       "      <th>...</th>\n",
       "      <th>rtx_4070_popularity_lag_1</th>\n",
       "      <th>rtx_4070_popularity_lag_3</th>\n",
       "      <th>rtx_4070_popularity_lag_7</th>\n",
       "      <th>rtx_4070_popularity_lag_14</th>\n",
       "      <th>rtx_4070_popularity_lag_30</th>\n",
       "      <th>volume_lag_1</th>\n",
       "      <th>volume_lag_3</th>\n",
       "      <th>volume_lag_7</th>\n",
       "      <th>volume_lag_14</th>\n",
       "      <th>volume_lag_30</th>\n",
       "    </tr>\n",
       "  </thead>\n",
       "  <tbody>\n",
       "    <tr>\n",
       "      <th>750</th>\n",
       "      <td>NVDA</td>\n",
       "      <td>2024-12-27</td>\n",
       "      <td>138.550003</td>\n",
       "      <td>139.020004</td>\n",
       "      <td>134.710007</td>\n",
       "      <td>137.009995</td>\n",
       "      <td>136.987869</td>\n",
       "      <td>170582600</td>\n",
       "      <td>23.0</td>\n",
       "      <td>64.0</td>\n",
       "      <td>...</td>\n",
       "      <td>84.0</td>\n",
       "      <td>84.0</td>\n",
       "      <td>74.0</td>\n",
       "      <td>81.0</td>\n",
       "      <td>74.0</td>\n",
       "      <td>116205600.0</td>\n",
       "      <td>176053500.0</td>\n",
       "      <td>259410300.0</td>\n",
       "      <td>188505600.0</td>\n",
       "      <td>191903300.0</td>\n",
       "    </tr>\n",
       "    <tr>\n",
       "      <th>751</th>\n",
       "      <td>NVDA</td>\n",
       "      <td>2024-12-30</td>\n",
       "      <td>134.830002</td>\n",
       "      <td>140.270004</td>\n",
       "      <td>134.020004</td>\n",
       "      <td>137.490005</td>\n",
       "      <td>137.467804</td>\n",
       "      <td>167734700</td>\n",
       "      <td>22.0</td>\n",
       "      <td>59.0</td>\n",
       "      <td>...</td>\n",
       "      <td>84.0</td>\n",
       "      <td>84.0</td>\n",
       "      <td>74.0</td>\n",
       "      <td>74.0</td>\n",
       "      <td>74.0</td>\n",
       "      <td>170582600.0</td>\n",
       "      <td>105157000.0</td>\n",
       "      <td>277444500.0</td>\n",
       "      <td>189308600.0</td>\n",
       "      <td>194463300.0</td>\n",
       "    </tr>\n",
       "    <tr>\n",
       "      <th>752</th>\n",
       "      <td>NVDA</td>\n",
       "      <td>2024-12-31</td>\n",
       "      <td>138.029999</td>\n",
       "      <td>138.070007</td>\n",
       "      <td>133.830002</td>\n",
       "      <td>134.289993</td>\n",
       "      <td>134.268326</td>\n",
       "      <td>155659200</td>\n",
       "      <td>22.0</td>\n",
       "      <td>59.0</td>\n",
       "      <td>...</td>\n",
       "      <td>80.0</td>\n",
       "      <td>84.0</td>\n",
       "      <td>74.0</td>\n",
       "      <td>74.0</td>\n",
       "      <td>74.0</td>\n",
       "      <td>167734700.0</td>\n",
       "      <td>116205600.0</td>\n",
       "      <td>209719200.0</td>\n",
       "      <td>210020900.0</td>\n",
       "      <td>250132900.0</td>\n",
       "    </tr>\n",
       "    <tr>\n",
       "      <th>753</th>\n",
       "      <td>NVDA</td>\n",
       "      <td>2025-01-02</td>\n",
       "      <td>136.000000</td>\n",
       "      <td>138.880005</td>\n",
       "      <td>134.630005</td>\n",
       "      <td>138.309998</td>\n",
       "      <td>138.287674</td>\n",
       "      <td>198247200</td>\n",
       "      <td>22.0</td>\n",
       "      <td>59.0</td>\n",
       "      <td>...</td>\n",
       "      <td>80.0</td>\n",
       "      <td>84.0</td>\n",
       "      <td>74.0</td>\n",
       "      <td>74.0</td>\n",
       "      <td>82.0</td>\n",
       "      <td>155659200.0</td>\n",
       "      <td>170582600.0</td>\n",
       "      <td>306528600.0</td>\n",
       "      <td>184905200.0</td>\n",
       "      <td>221866000.0</td>\n",
       "    </tr>\n",
       "    <tr>\n",
       "      <th>754</th>\n",
       "      <td>NVDA</td>\n",
       "      <td>2025-01-03</td>\n",
       "      <td>140.009995</td>\n",
       "      <td>144.899994</td>\n",
       "      <td>139.729996</td>\n",
       "      <td>144.470001</td>\n",
       "      <td>144.446686</td>\n",
       "      <td>229322500</td>\n",
       "      <td>22.0</td>\n",
       "      <td>59.0</td>\n",
       "      <td>...</td>\n",
       "      <td>80.0</td>\n",
       "      <td>80.0</td>\n",
       "      <td>84.0</td>\n",
       "      <td>74.0</td>\n",
       "      <td>82.0</td>\n",
       "      <td>198247200.0</td>\n",
       "      <td>167734700.0</td>\n",
       "      <td>176053500.0</td>\n",
       "      <td>159211400.0</td>\n",
       "      <td>227834900.0</td>\n",
       "    </tr>\n",
       "  </tbody>\n",
       "</table>\n",
       "<p>5 rows × 35 columns</p>\n",
       "</div>"
      ],
      "text/plain": [
       "    ticker       date        open        high         low       close  \\\n",
       "750   NVDA 2024-12-27  138.550003  139.020004  134.710007  137.009995   \n",
       "751   NVDA 2024-12-30  134.830002  140.270004  134.020004  137.490005   \n",
       "752   NVDA 2024-12-31  138.029999  138.070007  133.830002  134.289993   \n",
       "753   NVDA 2025-01-02  136.000000  138.880005  134.630005  138.309998   \n",
       "754   NVDA 2025-01-03  140.009995  144.899994  139.729996  144.470001   \n",
       "\n",
       "      adj_close     volume  rtx_4090_popularity  rtx_4080_popularity  ...  \\\n",
       "750  136.987869  170582600                 23.0                 64.0  ...   \n",
       "751  137.467804  167734700                 22.0                 59.0  ...   \n",
       "752  134.268326  155659200                 22.0                 59.0  ...   \n",
       "753  138.287674  198247200                 22.0                 59.0  ...   \n",
       "754  144.446686  229322500                 22.0                 59.0  ...   \n",
       "\n",
       "     rtx_4070_popularity_lag_1  rtx_4070_popularity_lag_3  \\\n",
       "750                       84.0                       84.0   \n",
       "751                       84.0                       84.0   \n",
       "752                       80.0                       84.0   \n",
       "753                       80.0                       84.0   \n",
       "754                       80.0                       80.0   \n",
       "\n",
       "     rtx_4070_popularity_lag_7  rtx_4070_popularity_lag_14  \\\n",
       "750                       74.0                        81.0   \n",
       "751                       74.0                        74.0   \n",
       "752                       74.0                        74.0   \n",
       "753                       74.0                        74.0   \n",
       "754                       84.0                        74.0   \n",
       "\n",
       "    rtx_4070_popularity_lag_30  volume_lag_1  volume_lag_3  volume_lag_7  \\\n",
       "750                       74.0   116205600.0   176053500.0   259410300.0   \n",
       "751                       74.0   170582600.0   105157000.0   277444500.0   \n",
       "752                       74.0   167734700.0   116205600.0   209719200.0   \n",
       "753                       82.0   155659200.0   170582600.0   306528600.0   \n",
       "754                       82.0   198247200.0   167734700.0   176053500.0   \n",
       "\n",
       "     volume_lag_14  volume_lag_30  \n",
       "750    188505600.0    191903300.0  \n",
       "751    189308600.0    194463300.0  \n",
       "752    210020900.0    250132900.0  \n",
       "753    184905200.0    221866000.0  \n",
       "754    159211400.0    227834900.0  \n",
       "\n",
       "[5 rows x 35 columns]"
      ]
     },
     "execution_count": 17,
     "metadata": {},
     "output_type": "execute_result"
    }
   ],
   "source": [
    "for lag in lags:\n",
    "    col_name = f'volume_lag_{lag}'\n",
    "    df[col_name] = df['volume'].shift(lag)\n",
    "\n",
    "    # для рядків що не мають даних по неохідній даті заповнюємо 0\n",
    "    df[col_name] = df[col_name].fillna(0)\n",
    "\n",
    "df.tail(5)"
   ]
  },
  {
   "cell_type": "markdown",
   "id": "ef56225d",
   "metadata": {},
   "source": [
    "### Дохідність"
   ]
  },
  {
   "cell_type": "code",
   "execution_count": 18,
   "id": "10563b92",
   "metadata": {},
   "outputs": [
    {
     "data": {
      "text/html": [
       "<div>\n",
       "<style scoped>\n",
       "    .dataframe tbody tr th:only-of-type {\n",
       "        vertical-align: middle;\n",
       "    }\n",
       "\n",
       "    .dataframe tbody tr th {\n",
       "        vertical-align: top;\n",
       "    }\n",
       "\n",
       "    .dataframe thead th {\n",
       "        text-align: right;\n",
       "    }\n",
       "</style>\n",
       "<table border=\"1\" class=\"dataframe\">\n",
       "  <thead>\n",
       "    <tr style=\"text-align: right;\">\n",
       "      <th></th>\n",
       "      <th>ticker</th>\n",
       "      <th>date</th>\n",
       "      <th>open</th>\n",
       "      <th>high</th>\n",
       "      <th>low</th>\n",
       "      <th>close</th>\n",
       "      <th>adj_close</th>\n",
       "      <th>volume</th>\n",
       "      <th>rtx_4090_popularity</th>\n",
       "      <th>rtx_4080_popularity</th>\n",
       "      <th>...</th>\n",
       "      <th>volume_lag_1</th>\n",
       "      <th>volume_lag_3</th>\n",
       "      <th>volume_lag_7</th>\n",
       "      <th>volume_lag_14</th>\n",
       "      <th>volume_lag_30</th>\n",
       "      <th>returns</th>\n",
       "      <th>returns_3d</th>\n",
       "      <th>returns_7d</th>\n",
       "      <th>returns_14d</th>\n",
       "      <th>returns_30d</th>\n",
       "    </tr>\n",
       "  </thead>\n",
       "  <tbody>\n",
       "    <tr>\n",
       "      <th>750</th>\n",
       "      <td>NVDA</td>\n",
       "      <td>2024-12-27</td>\n",
       "      <td>138.550003</td>\n",
       "      <td>139.020004</td>\n",
       "      <td>134.710007</td>\n",
       "      <td>137.009995</td>\n",
       "      <td>136.987869</td>\n",
       "      <td>170582600</td>\n",
       "      <td>23.0</td>\n",
       "      <td>64.0</td>\n",
       "      <td>...</td>\n",
       "      <td>116205600.0</td>\n",
       "      <td>176053500.0</td>\n",
       "      <td>259410300.0</td>\n",
       "      <td>188505600.0</td>\n",
       "      <td>191903300.0</td>\n",
       "      <td>-0.020868</td>\n",
       "      <td>-0.020868</td>\n",
       "      <td>-0.020868</td>\n",
       "      <td>-0.020868</td>\n",
       "      <td>-0.020868</td>\n",
       "    </tr>\n",
       "    <tr>\n",
       "      <th>751</th>\n",
       "      <td>NVDA</td>\n",
       "      <td>2024-12-30</td>\n",
       "      <td>134.830002</td>\n",
       "      <td>140.270004</td>\n",
       "      <td>134.020004</td>\n",
       "      <td>137.490005</td>\n",
       "      <td>137.467804</td>\n",
       "      <td>167734700</td>\n",
       "      <td>22.0</td>\n",
       "      <td>59.0</td>\n",
       "      <td>...</td>\n",
       "      <td>170582600.0</td>\n",
       "      <td>105157000.0</td>\n",
       "      <td>277444500.0</td>\n",
       "      <td>189308600.0</td>\n",
       "      <td>194463300.0</td>\n",
       "      <td>0.003503</td>\n",
       "      <td>0.003503</td>\n",
       "      <td>0.003503</td>\n",
       "      <td>0.003503</td>\n",
       "      <td>0.003503</td>\n",
       "    </tr>\n",
       "    <tr>\n",
       "      <th>752</th>\n",
       "      <td>NVDA</td>\n",
       "      <td>2024-12-31</td>\n",
       "      <td>138.029999</td>\n",
       "      <td>138.070007</td>\n",
       "      <td>133.830002</td>\n",
       "      <td>134.289993</td>\n",
       "      <td>134.268326</td>\n",
       "      <td>155659200</td>\n",
       "      <td>22.0</td>\n",
       "      <td>59.0</td>\n",
       "      <td>...</td>\n",
       "      <td>167734700.0</td>\n",
       "      <td>116205600.0</td>\n",
       "      <td>209719200.0</td>\n",
       "      <td>210020900.0</td>\n",
       "      <td>250132900.0</td>\n",
       "      <td>-0.023274</td>\n",
       "      <td>-0.023274</td>\n",
       "      <td>-0.023274</td>\n",
       "      <td>-0.023274</td>\n",
       "      <td>-0.023274</td>\n",
       "    </tr>\n",
       "    <tr>\n",
       "      <th>753</th>\n",
       "      <td>NVDA</td>\n",
       "      <td>2025-01-02</td>\n",
       "      <td>136.000000</td>\n",
       "      <td>138.880005</td>\n",
       "      <td>134.630005</td>\n",
       "      <td>138.309998</td>\n",
       "      <td>138.287674</td>\n",
       "      <td>198247200</td>\n",
       "      <td>22.0</td>\n",
       "      <td>59.0</td>\n",
       "      <td>...</td>\n",
       "      <td>155659200.0</td>\n",
       "      <td>170582600.0</td>\n",
       "      <td>306528600.0</td>\n",
       "      <td>184905200.0</td>\n",
       "      <td>221866000.0</td>\n",
       "      <td>0.029935</td>\n",
       "      <td>0.029935</td>\n",
       "      <td>0.029935</td>\n",
       "      <td>0.029935</td>\n",
       "      <td>0.029935</td>\n",
       "    </tr>\n",
       "    <tr>\n",
       "      <th>754</th>\n",
       "      <td>NVDA</td>\n",
       "      <td>2025-01-03</td>\n",
       "      <td>140.009995</td>\n",
       "      <td>144.899994</td>\n",
       "      <td>139.729996</td>\n",
       "      <td>144.470001</td>\n",
       "      <td>144.446686</td>\n",
       "      <td>229322500</td>\n",
       "      <td>22.0</td>\n",
       "      <td>59.0</td>\n",
       "      <td>...</td>\n",
       "      <td>198247200.0</td>\n",
       "      <td>167734700.0</td>\n",
       "      <td>176053500.0</td>\n",
       "      <td>159211400.0</td>\n",
       "      <td>227834900.0</td>\n",
       "      <td>0.044538</td>\n",
       "      <td>0.044538</td>\n",
       "      <td>0.044538</td>\n",
       "      <td>0.044538</td>\n",
       "      <td>0.044538</td>\n",
       "    </tr>\n",
       "  </tbody>\n",
       "</table>\n",
       "<p>5 rows × 40 columns</p>\n",
       "</div>"
      ],
      "text/plain": [
       "    ticker       date        open        high         low       close  \\\n",
       "750   NVDA 2024-12-27  138.550003  139.020004  134.710007  137.009995   \n",
       "751   NVDA 2024-12-30  134.830002  140.270004  134.020004  137.490005   \n",
       "752   NVDA 2024-12-31  138.029999  138.070007  133.830002  134.289993   \n",
       "753   NVDA 2025-01-02  136.000000  138.880005  134.630005  138.309998   \n",
       "754   NVDA 2025-01-03  140.009995  144.899994  139.729996  144.470001   \n",
       "\n",
       "      adj_close     volume  rtx_4090_popularity  rtx_4080_popularity  ...  \\\n",
       "750  136.987869  170582600                 23.0                 64.0  ...   \n",
       "751  137.467804  167734700                 22.0                 59.0  ...   \n",
       "752  134.268326  155659200                 22.0                 59.0  ...   \n",
       "753  138.287674  198247200                 22.0                 59.0  ...   \n",
       "754  144.446686  229322500                 22.0                 59.0  ...   \n",
       "\n",
       "     volume_lag_1  volume_lag_3  volume_lag_7  volume_lag_14 volume_lag_30  \\\n",
       "750   116205600.0   176053500.0   259410300.0    188505600.0   191903300.0   \n",
       "751   170582600.0   105157000.0   277444500.0    189308600.0   194463300.0   \n",
       "752   167734700.0   116205600.0   209719200.0    210020900.0   250132900.0   \n",
       "753   155659200.0   170582600.0   306528600.0    184905200.0   221866000.0   \n",
       "754   198247200.0   167734700.0   176053500.0    159211400.0   227834900.0   \n",
       "\n",
       "      returns  returns_3d  returns_7d  returns_14d  returns_30d  \n",
       "750 -0.020868   -0.020868   -0.020868    -0.020868    -0.020868  \n",
       "751  0.003503    0.003503    0.003503     0.003503     0.003503  \n",
       "752 -0.023274   -0.023274   -0.023274    -0.023274    -0.023274  \n",
       "753  0.029935    0.029935    0.029935     0.029935     0.029935  \n",
       "754  0.044538    0.044538    0.044538     0.044538     0.044538  \n",
       "\n",
       "[5 rows x 40 columns]"
      ]
     },
     "execution_count": 18,
     "metadata": {},
     "output_type": "execute_result"
    }
   ],
   "source": [
    "df['returns'] = df['adj_close'].pct_change()\n",
    "df['returns'] = df['returns'].fillna(0)\n",
    "df['returns_3d'] = df['adj_close'].pct_change(periods=3)\n",
    "df['returns_3d'] = df['returns'].fillna(0)\n",
    "df['returns_7d'] = df['adj_close'].pct_change(periods=7)\n",
    "df['returns_7d'] = df['returns'].fillna(0)\n",
    "df['returns_14d'] = df['adj_close'].pct_change(periods=14)\n",
    "df['returns_14d'] = df['returns'].fillna(0)\n",
    "df['returns_30d'] = df['adj_close'].pct_change(periods=30)\n",
    "df['returns_30d'] = df['returns'].fillna(0)\n",
    "df.tail(5)"
   ]
  },
  {
   "cell_type": "markdown",
   "id": "1ff503c6",
   "metadata": {},
   "source": [
    "### Урахування дати релізів кожної відеокарти"
   ]
  },
  {
   "cell_type": "code",
   "execution_count": 19,
   "id": "dbe75460",
   "metadata": {},
   "outputs": [],
   "source": [
    "from datetime import datetime\n",
    "\n",
    "release_dates = {\n",
    "    'rtx_4090': pd.to_datetime('2022-10-12'),\n",
    "    'rtx_4080': pd.to_datetime('2022-11-16'),\n",
    "    'rtx_4070': pd.to_datetime('2023-04-13'),\n",
    "}"
   ]
  },
  {
   "cell_type": "markdown",
   "id": "50d1d0ed",
   "metadata": {},
   "source": [
    "додаємо колонки, які показують чи дані співпадають з днем/тижднем/місяцем релізу відеокарти"
   ]
  },
  {
   "cell_type": "code",
   "execution_count": 20,
   "id": "cf0a5dc2",
   "metadata": {},
   "outputs": [
    {
     "data": {
      "text/html": [
       "<div>\n",
       "<style scoped>\n",
       "    .dataframe tbody tr th:only-of-type {\n",
       "        vertical-align: middle;\n",
       "    }\n",
       "\n",
       "    .dataframe tbody tr th {\n",
       "        vertical-align: top;\n",
       "    }\n",
       "\n",
       "    .dataframe thead th {\n",
       "        text-align: right;\n",
       "    }\n",
       "</style>\n",
       "<table border=\"1\" class=\"dataframe\">\n",
       "  <thead>\n",
       "    <tr style=\"text-align: right;\">\n",
       "      <th></th>\n",
       "      <th>ticker</th>\n",
       "      <th>date</th>\n",
       "      <th>open</th>\n",
       "      <th>high</th>\n",
       "      <th>low</th>\n",
       "      <th>close</th>\n",
       "      <th>adj_close</th>\n",
       "      <th>volume</th>\n",
       "      <th>rtx_4090_popularity</th>\n",
       "      <th>rtx_4080_popularity</th>\n",
       "      <th>...</th>\n",
       "      <th>returns_30d</th>\n",
       "      <th>is_release_day_rtx_4090</th>\n",
       "      <th>is_release_week_rtx_4090</th>\n",
       "      <th>is_release_month_rtx_4090</th>\n",
       "      <th>is_release_day_rtx_4080</th>\n",
       "      <th>is_release_week_rtx_4080</th>\n",
       "      <th>is_release_month_rtx_4080</th>\n",
       "      <th>is_release_day_rtx_4070</th>\n",
       "      <th>is_release_week_rtx_4070</th>\n",
       "      <th>is_release_month_rtx_4070</th>\n",
       "    </tr>\n",
       "  </thead>\n",
       "  <tbody>\n",
       "    <tr>\n",
       "      <th>0</th>\n",
       "      <td>NVDA</td>\n",
       "      <td>2022-01-03</td>\n",
       "      <td>29.815001</td>\n",
       "      <td>30.711000</td>\n",
       "      <td>29.785000</td>\n",
       "      <td>30.121000</td>\n",
       "      <td>30.066133</td>\n",
       "      <td>391547000</td>\n",
       "      <td>1.0</td>\n",
       "      <td>2.0</td>\n",
       "      <td>...</td>\n",
       "      <td>0.000000</td>\n",
       "      <td>0</td>\n",
       "      <td>0</td>\n",
       "      <td>0</td>\n",
       "      <td>0</td>\n",
       "      <td>0</td>\n",
       "      <td>0</td>\n",
       "      <td>0</td>\n",
       "      <td>0</td>\n",
       "      <td>0</td>\n",
       "    </tr>\n",
       "    <tr>\n",
       "      <th>1</th>\n",
       "      <td>NVDA</td>\n",
       "      <td>2022-01-04</td>\n",
       "      <td>30.277000</td>\n",
       "      <td>30.468000</td>\n",
       "      <td>28.349001</td>\n",
       "      <td>29.290001</td>\n",
       "      <td>29.236649</td>\n",
       "      <td>527154000</td>\n",
       "      <td>1.0</td>\n",
       "      <td>2.0</td>\n",
       "      <td>...</td>\n",
       "      <td>-0.027589</td>\n",
       "      <td>0</td>\n",
       "      <td>0</td>\n",
       "      <td>0</td>\n",
       "      <td>0</td>\n",
       "      <td>0</td>\n",
       "      <td>0</td>\n",
       "      <td>0</td>\n",
       "      <td>0</td>\n",
       "      <td>0</td>\n",
       "    </tr>\n",
       "    <tr>\n",
       "      <th>2</th>\n",
       "      <td>NVDA</td>\n",
       "      <td>2022-01-05</td>\n",
       "      <td>28.948999</td>\n",
       "      <td>29.416000</td>\n",
       "      <td>27.533001</td>\n",
       "      <td>27.604000</td>\n",
       "      <td>27.553719</td>\n",
       "      <td>498064000</td>\n",
       "      <td>1.0</td>\n",
       "      <td>2.0</td>\n",
       "      <td>...</td>\n",
       "      <td>-0.057562</td>\n",
       "      <td>0</td>\n",
       "      <td>0</td>\n",
       "      <td>0</td>\n",
       "      <td>0</td>\n",
       "      <td>0</td>\n",
       "      <td>0</td>\n",
       "      <td>0</td>\n",
       "      <td>0</td>\n",
       "      <td>0</td>\n",
       "    </tr>\n",
       "    <tr>\n",
       "      <th>3</th>\n",
       "      <td>NVDA</td>\n",
       "      <td>2022-01-06</td>\n",
       "      <td>27.639999</td>\n",
       "      <td>28.438000</td>\n",
       "      <td>27.065001</td>\n",
       "      <td>28.177999</td>\n",
       "      <td>28.126673</td>\n",
       "      <td>454186000</td>\n",
       "      <td>1.0</td>\n",
       "      <td>2.0</td>\n",
       "      <td>...</td>\n",
       "      <td>0.020794</td>\n",
       "      <td>0</td>\n",
       "      <td>0</td>\n",
       "      <td>0</td>\n",
       "      <td>0</td>\n",
       "      <td>0</td>\n",
       "      <td>0</td>\n",
       "      <td>0</td>\n",
       "      <td>0</td>\n",
       "      <td>0</td>\n",
       "    </tr>\n",
       "    <tr>\n",
       "      <th>4</th>\n",
       "      <td>NVDA</td>\n",
       "      <td>2022-01-07</td>\n",
       "      <td>28.141001</td>\n",
       "      <td>28.422001</td>\n",
       "      <td>27.056999</td>\n",
       "      <td>27.247000</td>\n",
       "      <td>27.197369</td>\n",
       "      <td>409939000</td>\n",
       "      <td>1.0</td>\n",
       "      <td>2.0</td>\n",
       "      <td>...</td>\n",
       "      <td>-0.033040</td>\n",
       "      <td>0</td>\n",
       "      <td>0</td>\n",
       "      <td>0</td>\n",
       "      <td>0</td>\n",
       "      <td>0</td>\n",
       "      <td>0</td>\n",
       "      <td>0</td>\n",
       "      <td>0</td>\n",
       "      <td>0</td>\n",
       "    </tr>\n",
       "  </tbody>\n",
       "</table>\n",
       "<p>5 rows × 49 columns</p>\n",
       "</div>"
      ],
      "text/plain": [
       "  ticker       date       open       high        low      close  adj_close  \\\n",
       "0   NVDA 2022-01-03  29.815001  30.711000  29.785000  30.121000  30.066133   \n",
       "1   NVDA 2022-01-04  30.277000  30.468000  28.349001  29.290001  29.236649   \n",
       "2   NVDA 2022-01-05  28.948999  29.416000  27.533001  27.604000  27.553719   \n",
       "3   NVDA 2022-01-06  27.639999  28.438000  27.065001  28.177999  28.126673   \n",
       "4   NVDA 2022-01-07  28.141001  28.422001  27.056999  27.247000  27.197369   \n",
       "\n",
       "      volume  rtx_4090_popularity  rtx_4080_popularity  ...  returns_30d  \\\n",
       "0  391547000                  1.0                  2.0  ...     0.000000   \n",
       "1  527154000                  1.0                  2.0  ...    -0.027589   \n",
       "2  498064000                  1.0                  2.0  ...    -0.057562   \n",
       "3  454186000                  1.0                  2.0  ...     0.020794   \n",
       "4  409939000                  1.0                  2.0  ...    -0.033040   \n",
       "\n",
       "   is_release_day_rtx_4090  is_release_week_rtx_4090  \\\n",
       "0                        0                         0   \n",
       "1                        0                         0   \n",
       "2                        0                         0   \n",
       "3                        0                         0   \n",
       "4                        0                         0   \n",
       "\n",
       "   is_release_month_rtx_4090 is_release_day_rtx_4080  \\\n",
       "0                          0                       0   \n",
       "1                          0                       0   \n",
       "2                          0                       0   \n",
       "3                          0                       0   \n",
       "4                          0                       0   \n",
       "\n",
       "   is_release_week_rtx_4080  is_release_month_rtx_4080  \\\n",
       "0                         0                          0   \n",
       "1                         0                          0   \n",
       "2                         0                          0   \n",
       "3                         0                          0   \n",
       "4                         0                          0   \n",
       "\n",
       "   is_release_day_rtx_4070  is_release_week_rtx_4070  \\\n",
       "0                        0                         0   \n",
       "1                        0                         0   \n",
       "2                        0                         0   \n",
       "3                        0                         0   \n",
       "4                        0                         0   \n",
       "\n",
       "   is_release_month_rtx_4070  \n",
       "0                          0  \n",
       "1                          0  \n",
       "2                          0  \n",
       "3                          0  \n",
       "4                          0  \n",
       "\n",
       "[5 rows x 49 columns]"
      ]
     },
     "execution_count": 20,
     "metadata": {},
     "output_type": "execute_result"
    }
   ],
   "source": [
    "for product, r_date in release_dates.items():\n",
    "    df[f'is_release_day_{product}'] = (df['date'] == r_date).astype(int)\n",
    "    df[f'is_release_week_{product}'] = (\n",
    "        (df['date'] >= r_date - pd.Timedelta(days=3)) &\n",
    "        (df['date'] <= r_date + pd.Timedelta(days=3))\n",
    "    ).astype(int)\n",
    "    df[f'is_release_month_{product}'] = (\n",
    "        (df['date'].dt.year == r_date.year) &\n",
    "        (df['date'].dt.month == r_date.month)\n",
    "    ).astype(int)\n",
    "df.head(5)"
   ]
  },
  {
   "cell_type": "markdown",
   "id": "97cd8d94",
   "metadata": {},
   "source": [
    "додаємо колонку, яка показує скільки днів минуло з релізу"
   ]
  },
  {
   "cell_type": "code",
   "execution_count": 21,
   "id": "2a6ac8a0",
   "metadata": {},
   "outputs": [
    {
     "data": {
      "text/html": [
       "<div>\n",
       "<style scoped>\n",
       "    .dataframe tbody tr th:only-of-type {\n",
       "        vertical-align: middle;\n",
       "    }\n",
       "\n",
       "    .dataframe tbody tr th {\n",
       "        vertical-align: top;\n",
       "    }\n",
       "\n",
       "    .dataframe thead th {\n",
       "        text-align: right;\n",
       "    }\n",
       "</style>\n",
       "<table border=\"1\" class=\"dataframe\">\n",
       "  <thead>\n",
       "    <tr style=\"text-align: right;\">\n",
       "      <th></th>\n",
       "      <th>ticker</th>\n",
       "      <th>date</th>\n",
       "      <th>open</th>\n",
       "      <th>high</th>\n",
       "      <th>low</th>\n",
       "      <th>close</th>\n",
       "      <th>adj_close</th>\n",
       "      <th>volume</th>\n",
       "      <th>rtx_4090_popularity</th>\n",
       "      <th>rtx_4080_popularity</th>\n",
       "      <th>...</th>\n",
       "      <th>is_release_month_rtx_4090</th>\n",
       "      <th>is_release_day_rtx_4080</th>\n",
       "      <th>is_release_week_rtx_4080</th>\n",
       "      <th>is_release_month_rtx_4080</th>\n",
       "      <th>is_release_day_rtx_4070</th>\n",
       "      <th>is_release_week_rtx_4070</th>\n",
       "      <th>is_release_month_rtx_4070</th>\n",
       "      <th>days_since_release_rtx_4090</th>\n",
       "      <th>days_since_release_rtx_4080</th>\n",
       "      <th>days_since_release_rtx_4070</th>\n",
       "    </tr>\n",
       "  </thead>\n",
       "  <tbody>\n",
       "    <tr>\n",
       "      <th>750</th>\n",
       "      <td>NVDA</td>\n",
       "      <td>2024-12-27</td>\n",
       "      <td>138.550003</td>\n",
       "      <td>139.020004</td>\n",
       "      <td>134.710007</td>\n",
       "      <td>137.009995</td>\n",
       "      <td>136.987869</td>\n",
       "      <td>170582600</td>\n",
       "      <td>23.0</td>\n",
       "      <td>64.0</td>\n",
       "      <td>...</td>\n",
       "      <td>0</td>\n",
       "      <td>0</td>\n",
       "      <td>0</td>\n",
       "      <td>0</td>\n",
       "      <td>0</td>\n",
       "      <td>0</td>\n",
       "      <td>0</td>\n",
       "      <td>807</td>\n",
       "      <td>772</td>\n",
       "      <td>624</td>\n",
       "    </tr>\n",
       "    <tr>\n",
       "      <th>751</th>\n",
       "      <td>NVDA</td>\n",
       "      <td>2024-12-30</td>\n",
       "      <td>134.830002</td>\n",
       "      <td>140.270004</td>\n",
       "      <td>134.020004</td>\n",
       "      <td>137.490005</td>\n",
       "      <td>137.467804</td>\n",
       "      <td>167734700</td>\n",
       "      <td>22.0</td>\n",
       "      <td>59.0</td>\n",
       "      <td>...</td>\n",
       "      <td>0</td>\n",
       "      <td>0</td>\n",
       "      <td>0</td>\n",
       "      <td>0</td>\n",
       "      <td>0</td>\n",
       "      <td>0</td>\n",
       "      <td>0</td>\n",
       "      <td>810</td>\n",
       "      <td>775</td>\n",
       "      <td>627</td>\n",
       "    </tr>\n",
       "    <tr>\n",
       "      <th>752</th>\n",
       "      <td>NVDA</td>\n",
       "      <td>2024-12-31</td>\n",
       "      <td>138.029999</td>\n",
       "      <td>138.070007</td>\n",
       "      <td>133.830002</td>\n",
       "      <td>134.289993</td>\n",
       "      <td>134.268326</td>\n",
       "      <td>155659200</td>\n",
       "      <td>22.0</td>\n",
       "      <td>59.0</td>\n",
       "      <td>...</td>\n",
       "      <td>0</td>\n",
       "      <td>0</td>\n",
       "      <td>0</td>\n",
       "      <td>0</td>\n",
       "      <td>0</td>\n",
       "      <td>0</td>\n",
       "      <td>0</td>\n",
       "      <td>811</td>\n",
       "      <td>776</td>\n",
       "      <td>628</td>\n",
       "    </tr>\n",
       "    <tr>\n",
       "      <th>753</th>\n",
       "      <td>NVDA</td>\n",
       "      <td>2025-01-02</td>\n",
       "      <td>136.000000</td>\n",
       "      <td>138.880005</td>\n",
       "      <td>134.630005</td>\n",
       "      <td>138.309998</td>\n",
       "      <td>138.287674</td>\n",
       "      <td>198247200</td>\n",
       "      <td>22.0</td>\n",
       "      <td>59.0</td>\n",
       "      <td>...</td>\n",
       "      <td>0</td>\n",
       "      <td>0</td>\n",
       "      <td>0</td>\n",
       "      <td>0</td>\n",
       "      <td>0</td>\n",
       "      <td>0</td>\n",
       "      <td>0</td>\n",
       "      <td>813</td>\n",
       "      <td>778</td>\n",
       "      <td>630</td>\n",
       "    </tr>\n",
       "    <tr>\n",
       "      <th>754</th>\n",
       "      <td>NVDA</td>\n",
       "      <td>2025-01-03</td>\n",
       "      <td>140.009995</td>\n",
       "      <td>144.899994</td>\n",
       "      <td>139.729996</td>\n",
       "      <td>144.470001</td>\n",
       "      <td>144.446686</td>\n",
       "      <td>229322500</td>\n",
       "      <td>22.0</td>\n",
       "      <td>59.0</td>\n",
       "      <td>...</td>\n",
       "      <td>0</td>\n",
       "      <td>0</td>\n",
       "      <td>0</td>\n",
       "      <td>0</td>\n",
       "      <td>0</td>\n",
       "      <td>0</td>\n",
       "      <td>0</td>\n",
       "      <td>814</td>\n",
       "      <td>779</td>\n",
       "      <td>631</td>\n",
       "    </tr>\n",
       "  </tbody>\n",
       "</table>\n",
       "<p>5 rows × 52 columns</p>\n",
       "</div>"
      ],
      "text/plain": [
       "    ticker       date        open        high         low       close  \\\n",
       "750   NVDA 2024-12-27  138.550003  139.020004  134.710007  137.009995   \n",
       "751   NVDA 2024-12-30  134.830002  140.270004  134.020004  137.490005   \n",
       "752   NVDA 2024-12-31  138.029999  138.070007  133.830002  134.289993   \n",
       "753   NVDA 2025-01-02  136.000000  138.880005  134.630005  138.309998   \n",
       "754   NVDA 2025-01-03  140.009995  144.899994  139.729996  144.470001   \n",
       "\n",
       "      adj_close     volume  rtx_4090_popularity  rtx_4080_popularity  ...  \\\n",
       "750  136.987869  170582600                 23.0                 64.0  ...   \n",
       "751  137.467804  167734700                 22.0                 59.0  ...   \n",
       "752  134.268326  155659200                 22.0                 59.0  ...   \n",
       "753  138.287674  198247200                 22.0                 59.0  ...   \n",
       "754  144.446686  229322500                 22.0                 59.0  ...   \n",
       "\n",
       "     is_release_month_rtx_4090  is_release_day_rtx_4080  \\\n",
       "750                          0                        0   \n",
       "751                          0                        0   \n",
       "752                          0                        0   \n",
       "753                          0                        0   \n",
       "754                          0                        0   \n",
       "\n",
       "     is_release_week_rtx_4080  is_release_month_rtx_4080  \\\n",
       "750                         0                          0   \n",
       "751                         0                          0   \n",
       "752                         0                          0   \n",
       "753                         0                          0   \n",
       "754                         0                          0   \n",
       "\n",
       "    is_release_day_rtx_4070  is_release_week_rtx_4070  \\\n",
       "750                       0                         0   \n",
       "751                       0                         0   \n",
       "752                       0                         0   \n",
       "753                       0                         0   \n",
       "754                       0                         0   \n",
       "\n",
       "     is_release_month_rtx_4070  days_since_release_rtx_4090  \\\n",
       "750                          0                          807   \n",
       "751                          0                          810   \n",
       "752                          0                          811   \n",
       "753                          0                          813   \n",
       "754                          0                          814   \n",
       "\n",
       "     days_since_release_rtx_4080  days_since_release_rtx_4070  \n",
       "750                          772                          624  \n",
       "751                          775                          627  \n",
       "752                          776                          628  \n",
       "753                          778                          630  \n",
       "754                          779                          631  \n",
       "\n",
       "[5 rows x 52 columns]"
      ]
     },
     "execution_count": 21,
     "metadata": {},
     "output_type": "execute_result"
    }
   ],
   "source": [
    "for product, r_date in release_dates.items():\n",
    "    col_name = f'days_since_release_{product}'\n",
    "    df[col_name] = (df['date'] - r_date).dt.days\n",
    "    df[col_name] = df[col_name].apply(lambda x: x if x>= 0 else 0)\n",
    "\n",
    "df.tail(5) "
   ]
  },
  {
   "cell_type": "markdown",
   "id": "502e096e",
   "metadata": {},
   "source": [
    "ділимо на часові категорії"
   ]
  },
  {
   "cell_type": "code",
   "execution_count": 22,
   "id": "d44815ef",
   "metadata": {},
   "outputs": [
    {
     "data": {
      "text/html": [
       "<div>\n",
       "<style scoped>\n",
       "    .dataframe tbody tr th:only-of-type {\n",
       "        vertical-align: middle;\n",
       "    }\n",
       "\n",
       "    .dataframe tbody tr th {\n",
       "        vertical-align: top;\n",
       "    }\n",
       "\n",
       "    .dataframe thead th {\n",
       "        text-align: right;\n",
       "    }\n",
       "</style>\n",
       "<table border=\"1\" class=\"dataframe\">\n",
       "  <thead>\n",
       "    <tr style=\"text-align: right;\">\n",
       "      <th></th>\n",
       "      <th>ticker</th>\n",
       "      <th>date</th>\n",
       "      <th>open</th>\n",
       "      <th>high</th>\n",
       "      <th>low</th>\n",
       "      <th>close</th>\n",
       "      <th>adj_close</th>\n",
       "      <th>volume</th>\n",
       "      <th>rtx_4090_popularity</th>\n",
       "      <th>rtx_4080_popularity</th>\n",
       "      <th>...</th>\n",
       "      <th>is_release_month_rtx_4080</th>\n",
       "      <th>is_release_day_rtx_4070</th>\n",
       "      <th>is_release_week_rtx_4070</th>\n",
       "      <th>is_release_month_rtx_4070</th>\n",
       "      <th>days_since_release_rtx_4090</th>\n",
       "      <th>days_since_release_rtx_4080</th>\n",
       "      <th>days_since_release_rtx_4070</th>\n",
       "      <th>release_window_rtx_4090</th>\n",
       "      <th>release_window_rtx_4080</th>\n",
       "      <th>release_window_rtx_4070</th>\n",
       "    </tr>\n",
       "  </thead>\n",
       "  <tbody>\n",
       "    <tr>\n",
       "      <th>750</th>\n",
       "      <td>NVDA</td>\n",
       "      <td>2024-12-27</td>\n",
       "      <td>138.550003</td>\n",
       "      <td>139.020004</td>\n",
       "      <td>134.710007</td>\n",
       "      <td>137.009995</td>\n",
       "      <td>136.987869</td>\n",
       "      <td>170582600</td>\n",
       "      <td>23.0</td>\n",
       "      <td>64.0</td>\n",
       "      <td>...</td>\n",
       "      <td>0</td>\n",
       "      <td>0</td>\n",
       "      <td>0</td>\n",
       "      <td>0</td>\n",
       "      <td>807</td>\n",
       "      <td>772</td>\n",
       "      <td>624</td>\n",
       "      <td>30d-</td>\n",
       "      <td>30d-</td>\n",
       "      <td>30d-</td>\n",
       "    </tr>\n",
       "    <tr>\n",
       "      <th>751</th>\n",
       "      <td>NVDA</td>\n",
       "      <td>2024-12-30</td>\n",
       "      <td>134.830002</td>\n",
       "      <td>140.270004</td>\n",
       "      <td>134.020004</td>\n",
       "      <td>137.490005</td>\n",
       "      <td>137.467804</td>\n",
       "      <td>167734700</td>\n",
       "      <td>22.0</td>\n",
       "      <td>59.0</td>\n",
       "      <td>...</td>\n",
       "      <td>0</td>\n",
       "      <td>0</td>\n",
       "      <td>0</td>\n",
       "      <td>0</td>\n",
       "      <td>810</td>\n",
       "      <td>775</td>\n",
       "      <td>627</td>\n",
       "      <td>30d-</td>\n",
       "      <td>30d-</td>\n",
       "      <td>30d-</td>\n",
       "    </tr>\n",
       "    <tr>\n",
       "      <th>752</th>\n",
       "      <td>NVDA</td>\n",
       "      <td>2024-12-31</td>\n",
       "      <td>138.029999</td>\n",
       "      <td>138.070007</td>\n",
       "      <td>133.830002</td>\n",
       "      <td>134.289993</td>\n",
       "      <td>134.268326</td>\n",
       "      <td>155659200</td>\n",
       "      <td>22.0</td>\n",
       "      <td>59.0</td>\n",
       "      <td>...</td>\n",
       "      <td>0</td>\n",
       "      <td>0</td>\n",
       "      <td>0</td>\n",
       "      <td>0</td>\n",
       "      <td>811</td>\n",
       "      <td>776</td>\n",
       "      <td>628</td>\n",
       "      <td>30d-</td>\n",
       "      <td>30d-</td>\n",
       "      <td>30d-</td>\n",
       "    </tr>\n",
       "    <tr>\n",
       "      <th>753</th>\n",
       "      <td>NVDA</td>\n",
       "      <td>2025-01-02</td>\n",
       "      <td>136.000000</td>\n",
       "      <td>138.880005</td>\n",
       "      <td>134.630005</td>\n",
       "      <td>138.309998</td>\n",
       "      <td>138.287674</td>\n",
       "      <td>198247200</td>\n",
       "      <td>22.0</td>\n",
       "      <td>59.0</td>\n",
       "      <td>...</td>\n",
       "      <td>0</td>\n",
       "      <td>0</td>\n",
       "      <td>0</td>\n",
       "      <td>0</td>\n",
       "      <td>813</td>\n",
       "      <td>778</td>\n",
       "      <td>630</td>\n",
       "      <td>30d-</td>\n",
       "      <td>30d-</td>\n",
       "      <td>30d-</td>\n",
       "    </tr>\n",
       "    <tr>\n",
       "      <th>754</th>\n",
       "      <td>NVDA</td>\n",
       "      <td>2025-01-03</td>\n",
       "      <td>140.009995</td>\n",
       "      <td>144.899994</td>\n",
       "      <td>139.729996</td>\n",
       "      <td>144.470001</td>\n",
       "      <td>144.446686</td>\n",
       "      <td>229322500</td>\n",
       "      <td>22.0</td>\n",
       "      <td>59.0</td>\n",
       "      <td>...</td>\n",
       "      <td>0</td>\n",
       "      <td>0</td>\n",
       "      <td>0</td>\n",
       "      <td>0</td>\n",
       "      <td>814</td>\n",
       "      <td>779</td>\n",
       "      <td>631</td>\n",
       "      <td>30d-</td>\n",
       "      <td>30d-</td>\n",
       "      <td>30d-</td>\n",
       "    </tr>\n",
       "  </tbody>\n",
       "</table>\n",
       "<p>5 rows × 55 columns</p>\n",
       "</div>"
      ],
      "text/plain": [
       "    ticker       date        open        high         low       close  \\\n",
       "750   NVDA 2024-12-27  138.550003  139.020004  134.710007  137.009995   \n",
       "751   NVDA 2024-12-30  134.830002  140.270004  134.020004  137.490005   \n",
       "752   NVDA 2024-12-31  138.029999  138.070007  133.830002  134.289993   \n",
       "753   NVDA 2025-01-02  136.000000  138.880005  134.630005  138.309998   \n",
       "754   NVDA 2025-01-03  140.009995  144.899994  139.729996  144.470001   \n",
       "\n",
       "      adj_close     volume  rtx_4090_popularity  rtx_4080_popularity  ...  \\\n",
       "750  136.987869  170582600                 23.0                 64.0  ...   \n",
       "751  137.467804  167734700                 22.0                 59.0  ...   \n",
       "752  134.268326  155659200                 22.0                 59.0  ...   \n",
       "753  138.287674  198247200                 22.0                 59.0  ...   \n",
       "754  144.446686  229322500                 22.0                 59.0  ...   \n",
       "\n",
       "     is_release_month_rtx_4080  is_release_day_rtx_4070  \\\n",
       "750                          0                        0   \n",
       "751                          0                        0   \n",
       "752                          0                        0   \n",
       "753                          0                        0   \n",
       "754                          0                        0   \n",
       "\n",
       "     is_release_week_rtx_4070  is_release_month_rtx_4070  \\\n",
       "750                         0                          0   \n",
       "751                         0                          0   \n",
       "752                         0                          0   \n",
       "753                         0                          0   \n",
       "754                         0                          0   \n",
       "\n",
       "    days_since_release_rtx_4090  days_since_release_rtx_4080  \\\n",
       "750                         807                          772   \n",
       "751                         810                          775   \n",
       "752                         811                          776   \n",
       "753                         813                          778   \n",
       "754                         814                          779   \n",
       "\n",
       "     days_since_release_rtx_4070  release_window_rtx_4090  \\\n",
       "750                          624                     30d-   \n",
       "751                          627                     30d-   \n",
       "752                          628                     30d-   \n",
       "753                          630                     30d-   \n",
       "754                          631                     30d-   \n",
       "\n",
       "     release_window_rtx_4080  release_window_rtx_4070  \n",
       "750                     30d-                     30d-  \n",
       "751                     30d-                     30d-  \n",
       "752                     30d-                     30d-  \n",
       "753                     30d-                     30d-  \n",
       "754                     30d-                     30d-  \n",
       "\n",
       "[5 rows x 55 columns]"
      ]
     },
     "execution_count": 22,
     "metadata": {},
     "output_type": "execute_result"
    }
   ],
   "source": [
    "bins = [0, 1, 3, 7, 14, 30, float('inf')]\n",
    "labels = ['0d-1d', '1d-3d', '3d-7d', '7d-14d', '14d-30d', '30d-']\n",
    "\n",
    "for product in release_dates:\n",
    "    df[f'release_window_{product}'] = pd.cut(\n",
    "        df[f'days_since_release_{product}'],\n",
    "        bins=bins,\n",
    "        labels=labels,\n",
    "        include_lowest=True\n",
    "    )\n",
    "\n",
    "df.tail(5)"
   ]
  },
  {
   "cell_type": "markdown",
   "id": "61bdfbb9",
   "metadata": {},
   "source": [
    "## Експортуємо фінальну таблицю"
   ]
  },
  {
   "cell_type": "code",
   "execution_count": 23,
   "id": "3e5aeadc",
   "metadata": {},
   "outputs": [],
   "source": [
    "final_df = df.drop(['ticker'], axis=1)\n",
    "final_df.to_csv('tables/pop_stocks_table.csv')"
   ]
  },
  {
   "cell_type": "markdown",
   "id": "808a5aea",
   "metadata": {},
   "source": [
    "## Correlation"
   ]
  },
  {
   "cell_type": "markdown",
   "id": "7bb35511",
   "metadata": {},
   "source": [
    "загальний хіт-мап для всіх колонок"
   ]
  },
  {
   "cell_type": "code",
   "execution_count": 24,
   "id": "fd63d676",
   "metadata": {},
   "outputs": [
    {
     "data": {
      "image/png": "[encoded data removed]",
      "text/plain": [
       "<Figure size 2000x1000 with 2 Axes>"
      ]
     },
     "metadata": {},
     "output_type": "display_data"
    }
   ],
   "source": [
    "corr = df.corr(numeric_only=True)\n",
    "\n",
    "# 2. Побудова теплокарти\n",
    "plt.figure(figsize=(20, 10))\n",
    "sns.heatmap(corr, annot=False, fmt=\".2f\", cmap=\"coolwarm\", linewidths=0.5)\n",
    "plt.title(\"Кореляційна матриця\")\n",
    "plt.show()"
   ]
  },
  {
   "cell_type": "markdown",
   "id": "56512a8e",
   "metadata": {},
   "source": [
    "### перевірка гіпотез"
   ]
  },
  {
   "cell_type": "code",
   "execution_count": 25,
   "id": "1d7b1fc4",
   "metadata": {},
   "outputs": [
    {
     "data": {
      "text/plain": [
       "Index(['ticker', 'date', 'open', 'high', 'low', 'close', 'adj_close', 'volume',\n",
       "       'rtx_4090_popularity', 'rtx_4080_popularity', 'rtx_4070_popularity',\n",
       "       'year', 'quarter', 'month', 'month_name', 'rtx_4090_popularity_lag_1',\n",
       "       'rtx_4090_popularity_lag_3', 'rtx_4090_popularity_lag_7',\n",
       "       'rtx_4090_popularity_lag_14', 'rtx_4090_popularity_lag_30',\n",
       "       'rtx_4080_popularity_lag_1', 'rtx_4080_popularity_lag_3',\n",
       "       'rtx_4080_popularity_lag_7', 'rtx_4080_popularity_lag_14',\n",
       "       'rtx_4080_popularity_lag_30', 'rtx_4070_popularity_lag_1',\n",
       "       'rtx_4070_popularity_lag_3', 'rtx_4070_popularity_lag_7',\n",
       "       'rtx_4070_popularity_lag_14', 'rtx_4070_popularity_lag_30',\n",
       "       'volume_lag_1', 'volume_lag_3', 'volume_lag_7', 'volume_lag_14',\n",
       "       'volume_lag_30', 'returns', 'returns_3d', 'returns_7d', 'returns_14d',\n",
       "       'returns_30d', 'is_release_day_rtx_4090', 'is_release_week_rtx_4090',\n",
       "       'is_release_month_rtx_4090', 'is_release_day_rtx_4080',\n",
       "       'is_release_week_rtx_4080', 'is_release_month_rtx_4080',\n",
       "       'is_release_day_rtx_4070', 'is_release_week_rtx_4070',\n",
       "       'is_release_month_rtx_4070', 'days_since_release_rtx_4090',\n",
       "       'days_since_release_rtx_4080', 'days_since_release_rtx_4070',\n",
       "       'release_window_rtx_4090', 'release_window_rtx_4080',\n",
       "       'release_window_rtx_4070'],\n",
       "      dtype='object')"
      ]
     },
     "execution_count": 25,
     "metadata": {},
     "output_type": "execute_result"
    }
   ],
   "source": [
    "df.columns"
   ]
  },
  {
   "cell_type": "code",
   "execution_count": 26,
   "id": "1a023958",
   "metadata": {},
   "outputs": [],
   "source": [
    "def corr_hypothesis(first_feature, second_feature):\n",
    "    if first_feature in df.columns and second_feature in df.columns:\n",
    "        print(round(df[first_feature].corr(df[second_feature]), 3))\n",
    "    else:\n",
    "        print('Таких змінних немає')"
   ]
  },
  {
   "cell_type": "markdown",
   "id": "98703bdd",
   "metadata": {},
   "source": [
    "### Співставлення популярності відеокарт та метрики ціни акцій"
   ]
  },
  {
   "cell_type": "markdown",
   "id": "422a5218",
   "metadata": {},
   "source": [
    "#### коригована ціна закриття"
   ]
  },
  {
   "cell_type": "markdown",
   "id": "2a98608c",
   "metadata": {},
   "source": [
    "Гіпотеза 1: Зростання популярності RTX 4090 спричиняє зростання ціни акцій NVIDIA"
   ]
  },
  {
   "cell_type": "code",
   "execution_count": 27,
   "id": "185e0bdf",
   "metadata": {},
   "outputs": [
    {
     "name": "stdout",
     "output_type": "stream",
     "text": [
      "0.075\n"
     ]
    }
   ],
   "source": [
    "corr_hypothesis('rtx_4090_popularity', 'adj_close')"
   ]
  },
  {
   "cell_type": "markdown",
   "id": "517a8310",
   "metadata": {},
   "source": [
    "Гіпотеза 2: Зростання популярності RTX 4090 через 7 днів спричиняє зростання ціни акцій NVIDIA"
   ]
  },
  {
   "cell_type": "code",
   "execution_count": 28,
   "id": "44ae96c4",
   "metadata": {},
   "outputs": [
    {
     "name": "stdout",
     "output_type": "stream",
     "text": [
      "0.077\n"
     ]
    }
   ],
   "source": [
    "corr_hypothesis('rtx_4090_popularity_lag_7', 'adj_close')"
   ]
  },
  {
   "cell_type": "markdown",
   "id": "0b0b3eed",
   "metadata": {},
   "source": [
    "Гіпотеза 3: Зростання популярності RTX 4090 через 14 днів спричиняє зростання ціни акцій NVIDIA"
   ]
  },
  {
   "cell_type": "code",
   "execution_count": 29,
   "id": "47dcf15c",
   "metadata": {},
   "outputs": [
    {
     "name": "stdout",
     "output_type": "stream",
     "text": [
      "0.084\n"
     ]
    }
   ],
   "source": [
    "corr_hypothesis('rtx_4090_popularity_lag_14', 'adj_close')"
   ]
  },
  {
   "cell_type": "markdown",
   "id": "40de1ce9",
   "metadata": {},
   "source": [
    "Гіпотеза 4: Зростання популярності RTX 4090 через 30 днів спричиняє зростання ціни акцій NVIDIA"
   ]
  },
  {
   "cell_type": "code",
   "execution_count": 30,
   "id": "5abc3ef1",
   "metadata": {},
   "outputs": [
    {
     "name": "stdout",
     "output_type": "stream",
     "text": [
      "0.105\n"
     ]
    }
   ],
   "source": [
    "corr_hypothesis('rtx_4090_popularity_lag_30', 'adj_close')"
   ]
  },
  {
   "cell_type": "markdown",
   "id": "6c252062",
   "metadata": {},
   "source": [
    "Гіпотеза 5: Зростання популярності RTX 4080 спричиняє зростання ціни акцій NVIDIA"
   ]
  },
  {
   "cell_type": "code",
   "execution_count": 31,
   "id": "705cd729",
   "metadata": {},
   "outputs": [
    {
     "name": "stdout",
     "output_type": "stream",
     "text": [
      "0.501\n"
     ]
    }
   ],
   "source": [
    "corr_hypothesis('rtx_4080_popularity', 'adj_close')"
   ]
  },
  {
   "cell_type": "markdown",
   "id": "d96c924c",
   "metadata": {},
   "source": [
    "Гіпотеза 6: Зростання популярності RTX 4080 через 3 дні спричиняє зростання ціни акцій NVIDIA"
   ]
  },
  {
   "cell_type": "code",
   "execution_count": 32,
   "id": "ba425364",
   "metadata": {},
   "outputs": [
    {
     "name": "stdout",
     "output_type": "stream",
     "text": [
      "0.501\n"
     ]
    }
   ],
   "source": [
    "corr_hypothesis('rtx_4080_popularity_lag_3', 'adj_close')"
   ]
  },
  {
   "cell_type": "markdown",
   "id": "351aeafa",
   "metadata": {},
   "source": [
    "Гіпотеза 7: Зростання популярності RTX 4080 через 7 днів спричиняє зростання ціни акцій NVIDIA"
   ]
  },
  {
   "cell_type": "code",
   "execution_count": 33,
   "id": "36a71c6b",
   "metadata": {},
   "outputs": [
    {
     "name": "stdout",
     "output_type": "stream",
     "text": [
      "0.499\n"
     ]
    }
   ],
   "source": [
    "corr_hypothesis('rtx_4080_popularity_lag_7', 'adj_close')"
   ]
  },
  {
   "cell_type": "markdown",
   "id": "2791473b",
   "metadata": {},
   "source": [
    "Гіпотеза 8: Зростання популярності RTX 4080 через 14 днів спричиняє зростання ціни акцій NVIDIA"
   ]
  },
  {
   "cell_type": "code",
   "execution_count": 34,
   "id": "46e8411a",
   "metadata": {},
   "outputs": [
    {
     "name": "stdout",
     "output_type": "stream",
     "text": [
      "0.497\n"
     ]
    }
   ],
   "source": [
    "corr_hypothesis('rtx_4080_popularity_lag_14', 'adj_close')"
   ]
  },
  {
   "cell_type": "markdown",
   "id": "1b8237e7",
   "metadata": {},
   "source": [
    "Гіпотеза 9: Зростання популярності RTX 4080 через 30 днів спричиняє зростання ціни акцій NVIDIA"
   ]
  },
  {
   "cell_type": "code",
   "execution_count": 35,
   "id": "638bcca3",
   "metadata": {},
   "outputs": [
    {
     "name": "stdout",
     "output_type": "stream",
     "text": [
      "0.503\n"
     ]
    }
   ],
   "source": [
    "corr_hypothesis('rtx_4080_popularity_lag_30', 'adj_close')"
   ]
  },
  {
   "cell_type": "markdown",
   "id": "ccdbebd5",
   "metadata": {},
   "source": [
    "Гіпотеза 10: Зростання популярності RTX 4070 спричиняє зростання ціни акцій NVIDIA"
   ]
  },
  {
   "cell_type": "code",
   "execution_count": 37,
   "id": "ffce23ff",
   "metadata": {},
   "outputs": [
    {
     "name": "stdout",
     "output_type": "stream",
     "text": [
      "0.771\n"
     ]
    }
   ],
   "source": [
    "corr_hypothesis('rtx_4070_popularity', 'adj_close')"
   ]
  },
  {
   "cell_type": "markdown",
   "id": "27f6fc63",
   "metadata": {},
   "source": [
    "Гіпотеза 11: Зростання популярності RTX 4070 через 3 дні спричиняє зростання ціни акцій NVIDIA"
   ]
  },
  {
   "cell_type": "code",
   "execution_count": 38,
   "id": "d7828a02",
   "metadata": {},
   "outputs": [
    {
     "name": "stdout",
     "output_type": "stream",
     "text": [
      "0.771\n"
     ]
    }
   ],
   "source": [
    "corr_hypothesis('rtx_4070_popularity_lag_3', 'adj_close')"
   ]
  },
  {
   "cell_type": "markdown",
   "id": "434c0891",
   "metadata": {},
   "source": [
    "Гіпотеза 12: Зростання популярності RTX 4070 через 7 днів спричиняє зростання ціни акцій NVIDIA"
   ]
  },
  {
   "cell_type": "code",
   "execution_count": 39,
   "id": "2628200d",
   "metadata": {},
   "outputs": [
    {
     "name": "stdout",
     "output_type": "stream",
     "text": [
      "0.769\n"
     ]
    }
   ],
   "source": [
    "corr_hypothesis('rtx_4070_popularity_lag_7', 'adj_close')"
   ]
  },
  {
   "cell_type": "markdown",
   "id": "1ee5cc37",
   "metadata": {},
   "source": [
    "Гіпотеза 13: Зростання популярності RTX 4070 через 14 днів спричиняє зростання ціни акцій NVIDIA"
   ]
  },
  {
   "cell_type": "code",
   "execution_count": 40,
   "id": "484e4fc5",
   "metadata": {},
   "outputs": [
    {
     "name": "stdout",
     "output_type": "stream",
     "text": [
      "0.77\n"
     ]
    }
   ],
   "source": [
    "corr_hypothesis('rtx_4070_popularity_lag_14', 'adj_close')"
   ]
  },
  {
   "cell_type": "markdown",
   "id": "d8c3e5d4",
   "metadata": {},
   "source": [
    "Гіпотеза 14: Зростання популярності RTX 4070 через 30 днів спричиняє зростання ціни акцій NVIDIA"
   ]
  },
  {
   "cell_type": "code",
   "execution_count": 41,
   "id": "9377956b",
   "metadata": {},
   "outputs": [
    {
     "name": "stdout",
     "output_type": "stream",
     "text": [
      "0.783\n"
     ]
    }
   ],
   "source": [
    "corr_hypothesis('rtx_4070_popularity_lag_30', 'adj_close')"
   ]
  },
  {
   "cell_type": "markdown",
   "id": "0a3bdfdd",
   "metadata": {},
   "source": [
    "#### дохідність"
   ]
  },
  {
   "cell_type": "markdown",
   "id": "f8a7f1a9",
   "metadata": {},
   "source": [
    "Гіпотеза 15: Зростання популярності RTX 4090 спричиняє зростання дохідності акцій NVIDIA"
   ]
  },
  {
   "cell_type": "code",
   "execution_count": 42,
   "id": "f7f30709",
   "metadata": {},
   "outputs": [
    {
     "name": "stdout",
     "output_type": "stream",
     "text": [
      "0.046\n"
     ]
    }
   ],
   "source": [
    "corr_hypothesis('rtx_4090_popularity', 'returns')"
   ]
  },
  {
   "cell_type": "markdown",
   "id": "9dbfcd0f",
   "metadata": {},
   "source": [
    "Гіпотеза 16: Зростання популярності RTX 4090 через 7 днів спричиняє зростання дохідності акцій NVIDIA"
   ]
  },
  {
   "cell_type": "code",
   "execution_count": 43,
   "id": "7f732f49",
   "metadata": {},
   "outputs": [
    {
     "name": "stdout",
     "output_type": "stream",
     "text": [
      "0.101\n"
     ]
    }
   ],
   "source": [
    "corr_hypothesis('rtx_4090_popularity_lag_7', 'returns')"
   ]
  },
  {
   "cell_type": "markdown",
   "id": "94fd11b9",
   "metadata": {},
   "source": [
    "Гіпотеза 17: Зростання популярності RTX 4090 через 30 днів спричиняє зростання дохідності акцій NVIDIA"
   ]
  },
  {
   "cell_type": "code",
   "execution_count": 44,
   "id": "c280430a",
   "metadata": {},
   "outputs": [
    {
     "name": "stdout",
     "output_type": "stream",
     "text": [
      "0.081\n"
     ]
    }
   ],
   "source": [
    "corr_hypothesis('rtx_4090_popularity_lag_30', 'returns')"
   ]
  },
  {
   "cell_type": "markdown",
   "id": "69309490",
   "metadata": {},
   "source": [
    "Гіпотеза 18: Зростання популярності RTX 4080 спричиняє зростання дохідності акцій NVIDIA"
   ]
  },
  {
   "cell_type": "code",
   "execution_count": 45,
   "id": "28c3b889",
   "metadata": {},
   "outputs": [
    {
     "name": "stdout",
     "output_type": "stream",
     "text": [
      "0.066\n"
     ]
    }
   ],
   "source": [
    "corr_hypothesis('rtx_4080_popularity', 'returns')"
   ]
  },
  {
   "cell_type": "markdown",
   "id": "693b1f4c",
   "metadata": {},
   "source": [
    "Гіпотеза 19: Зростання популярності RTX 4080 через 30 днів спричиняє зростання дохідності акцій NVIDIA"
   ]
  },
  {
   "cell_type": "code",
   "execution_count": 46,
   "id": "efa71a06",
   "metadata": {},
   "outputs": [
    {
     "name": "stdout",
     "output_type": "stream",
     "text": [
      "0.11\n"
     ]
    }
   ],
   "source": [
    "corr_hypothesis('rtx_4080_popularity_lag_30', 'returns')"
   ]
  },
  {
   "cell_type": "markdown",
   "id": "686b86dc",
   "metadata": {},
   "source": [
    "Гіпотеза 20: Зростання популярності RTX 4070 спричиняє зростання дохідності акцій NVIDIA"
   ]
  },
  {
   "cell_type": "code",
   "execution_count": 47,
   "id": "9d38cffa",
   "metadata": {},
   "outputs": [
    {
     "name": "stdout",
     "output_type": "stream",
     "text": [
      "0.068\n"
     ]
    }
   ],
   "source": [
    "corr_hypothesis('rtx_4070_popularity', 'returns')"
   ]
  },
  {
   "cell_type": "markdown",
   "id": "f40c86e1",
   "metadata": {},
   "source": [
    "Гіпотеза 21: Зростання популярності RTX 4070 через 30 днів спричиняє зростання дохідності акцій NVIDIA"
   ]
  },
  {
   "cell_type": "code",
   "execution_count": 48,
   "id": "54f95d86",
   "metadata": {},
   "outputs": [
    {
     "name": "stdout",
     "output_type": "stream",
     "text": [
      "0.081\n"
     ]
    }
   ],
   "source": [
    "corr_hypothesis('rtx_4070_popularity_lag_30', 'returns')"
   ]
  },
  {
   "cell_type": "markdown",
   "id": "9b1b1f94",
   "metadata": {},
   "source": [
    "#### обсяг торгів"
   ]
  },
  {
   "cell_type": "markdown",
   "id": "85bf01c6",
   "metadata": {},
   "source": [
    "Гіпотеза 22: Зростання популярності RTX 4090 спричиняє зростання обсягу торгів NVIDIA"
   ]
  },
  {
   "cell_type": "code",
   "execution_count": 49,
   "id": "f3768f8b",
   "metadata": {},
   "outputs": [
    {
     "name": "stdout",
     "output_type": "stream",
     "text": [
      "-0.059\n"
     ]
    }
   ],
   "source": [
    "corr_hypothesis('rtx_4090_popularity', 'volume')"
   ]
  },
  {
   "cell_type": "markdown",
   "id": "a3821825",
   "metadata": {},
   "source": [
    "Гіпотеза 23: Зростання популярності RTX 4090 через 30 днів спричиняє зростання обсягу торгів NVIDIA"
   ]
  },
  {
   "cell_type": "code",
   "execution_count": 50,
   "id": "29866e51",
   "metadata": {},
   "outputs": [
    {
     "name": "stdout",
     "output_type": "stream",
     "text": [
      "-0.192\n"
     ]
    }
   ],
   "source": [
    "corr_hypothesis('rtx_4090_popularity_lag_30', 'volume')"
   ]
  },
  {
   "cell_type": "markdown",
   "id": "2a5fba22",
   "metadata": {},
   "source": [
    "Гіпотеза 24: Зростання популярності RTX 4080 спричиняє зростання обсягу торгів NVIDIA"
   ]
  },
  {
   "cell_type": "code",
   "execution_count": 51,
   "id": "4582a379",
   "metadata": {},
   "outputs": [
    {
     "name": "stdout",
     "output_type": "stream",
     "text": [
      "-0.319\n"
     ]
    }
   ],
   "source": [
    "corr_hypothesis('rtx_4080_popularity', 'volume')"
   ]
  },
  {
   "cell_type": "markdown",
   "id": "fd4b53e6",
   "metadata": {},
   "source": [
    "Гіпотеза 25: Зростання популярності RTX 4080 через 30 днів спричиняє зростання обсягу торгів NVIDIA"
   ]
  },
  {
   "cell_type": "code",
   "execution_count": 52,
   "id": "c206d880",
   "metadata": {},
   "outputs": [
    {
     "name": "stdout",
     "output_type": "stream",
     "text": [
      "-0.285\n"
     ]
    }
   ],
   "source": [
    "corr_hypothesis('rtx_4080_popularity_lag_30', 'volume')"
   ]
  },
  {
   "cell_type": "markdown",
   "id": "31e73827",
   "metadata": {},
   "source": [
    "Гіпотеза 26: Зростання популярності RTX 4070 спричиняє зростання обсягу торгів NVIDIA"
   ]
  },
  {
   "cell_type": "code",
   "execution_count": 53,
   "id": "d25b3662",
   "metadata": {},
   "outputs": [
    {
     "name": "stdout",
     "output_type": "stream",
     "text": [
      "-0.447\n"
     ]
    }
   ],
   "source": [
    "corr_hypothesis('rtx_4070_popularity', 'volume')"
   ]
  },
  {
   "cell_type": "markdown",
   "id": "0dcff267",
   "metadata": {},
   "source": [
    "Гіпотеза 27: Зростання популярності RTX 4070 через 30 днів спричиняє зростання обсягу торгів NVIDIA"
   ]
  },
  {
   "cell_type": "code",
   "execution_count": 54,
   "id": "b3d084c3",
   "metadata": {},
   "outputs": [
    {
     "name": "stdout",
     "output_type": "stream",
     "text": [
      "-0.323\n"
     ]
    }
   ],
   "source": [
    "corr_hypothesis('rtx_4070_popularity_lag_30', 'volume')"
   ]
  },
  {
   "cell_type": "markdown",
   "id": "45a3a53c",
   "metadata": {},
   "source": [
    "### Перевірка на сезонність"
   ]
  },
  {
   "cell_type": "markdown",
   "id": "50dbef00",
   "metadata": {},
   "source": [
    "Гіпотеза 28: Зростання популярності RTX 4090 залежить від місяця"
   ]
  },
  {
   "cell_type": "code",
   "execution_count": 56,
   "id": "bf8caf32",
   "metadata": {},
   "outputs": [
    {
     "name": "stdout",
     "output_type": "stream",
     "text": [
      "0.369\n"
     ]
    }
   ],
   "source": [
    "corr_hypothesis('month', 'rtx_4090_popularity')"
   ]
  },
  {
   "cell_type": "markdown",
   "id": "5ee60748",
   "metadata": {},
   "source": [
    "Гіпотеза 29: Зростання популярності RTX 4080 залежить від місяця"
   ]
  },
  {
   "cell_type": "code",
   "execution_count": 57,
   "id": "e636a732",
   "metadata": {},
   "outputs": [
    {
     "name": "stdout",
     "output_type": "stream",
     "text": [
      "0.307\n"
     ]
    }
   ],
   "source": [
    "corr_hypothesis('month', 'rtx_4080_popularity')"
   ]
  },
  {
   "cell_type": "markdown",
   "id": "527cc4ad",
   "metadata": {},
   "source": [
    "Гіпотеза 30: Зростання популярності RTX 4070 залежить від місяця"
   ]
  },
  {
   "cell_type": "code",
   "execution_count": 58,
   "id": "f7e41f11",
   "metadata": {},
   "outputs": [
    {
     "name": "stdout",
     "output_type": "stream",
     "text": [
      "0.166\n"
     ]
    }
   ],
   "source": [
    "corr_hypothesis('month', 'rtx_4070_popularity')"
   ]
  },
  {
   "cell_type": "markdown",
   "id": "5affc994",
   "metadata": {},
   "source": [
    "Гіпотеза 31: Зростання коригованої ціни закриття залежить від місяця"
   ]
  },
  {
   "cell_type": "code",
   "execution_count": 60,
   "id": "6ac25efd",
   "metadata": {},
   "outputs": [
    {
     "name": "stdout",
     "output_type": "stream",
     "text": [
      "0.231\n"
     ]
    }
   ],
   "source": [
    "corr_hypothesis('month', 'adj_close')"
   ]
  },
  {
   "cell_type": "markdown",
   "id": "7fc7aafc",
   "metadata": {},
   "source": [
    "Гіпотеза 32: Зростання дохідності за 30 днів залежить від місяця"
   ]
  },
  {
   "cell_type": "code",
   "execution_count": null,
   "id": "2bd040a3",
   "metadata": {},
   "outputs": [
    {
     "name": "stdout",
     "output_type": "stream",
     "text": [
      "-0.053\n"
     ]
    }
   ],
   "source": [
    "corr_hypothesis('month', 'returns_30d')"
   ]
  },
  {
   "cell_type": "markdown",
   "id": "6aaebf5d",
   "metadata": {},
   "source": [
    "Гіпотеза 33: Зростання обсягу торгів залежить від місяця"
   ]
  },
  {
   "cell_type": "code",
   "execution_count": 63,
   "id": "291a536c",
   "metadata": {},
   "outputs": [
    {
     "name": "stdout",
     "output_type": "stream",
     "text": [
      "-0.291\n"
     ]
    }
   ],
   "source": [
    "corr_hypothesis('month', 'volume')"
   ]
  }
 ],
 "metadata": {
  "kernelspec": {
   "display_name": "Python 3",
   "language": "python",
   "name": "python3"
  },
  "language_info": {
   "codemirror_mode": {
    "name": "ipython",
    "version": 3
   },
   "file_extension": ".py",
   "mimetype": "text/x-python",
   "name": "python",
   "nbconvert_exporter": "python",
   "pygments_lexer": "ipython3",
   "version": "3.12.0"
  }
 },
 "nbformat": 4,
 "nbformat_minor": 5
}
